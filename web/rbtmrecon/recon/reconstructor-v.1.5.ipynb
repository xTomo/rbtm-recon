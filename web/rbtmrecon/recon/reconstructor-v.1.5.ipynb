{
 "cells": [
  {
   "cell_type": "markdown",
   "metadata": {},
   "source": [
    "# Changelog:\n",
    "\n",
    "* 1.5 (2018.09.11)\n",
    " - saving full tomography volume\n",
    " - deleting temporary files as soon as possible\n",
    " - change thresshold in object detection (1/6 -> 1/5)\n",
    " - WIP: fixing 3D visualisztion (waiting for distribution update on conda-forge)\n",
    " \n",
    "* 1.4 (2018.08.23)\n",
    " - Fix: correct resized volume serialization (smooth instead cherry picking)\n",
    " - New: 3D visualisation\n",
    " - Fix: sinogram shifting aftee rotation axis fix\n",
    " - Update: Searching rotation axis\n",
    "* 1.3 (2018.07.03)\n",
    " - Update graphics\n",
    " - Update axis search algorithms\n",
    "* 1.2 (2018.06.04)\n",
    " - Change threshold\n",
    "* 1.1 (2018.03.14) \n",
    " - Add NLM filtering\n",
    "* 1.0 (2017.02.01) \n",
    " - First automation version."
   ]
  },
  {
   "cell_type": "code",
   "execution_count": null,
   "metadata": {},
   "outputs": [],
   "source": [
    "%matplotlib inline\n",
    "%load_ext autoreload\n",
    "%autoreload 2"
   ]
  },
  {
   "cell_type": "code",
   "execution_count": null,
   "metadata": {},
   "outputs": [],
   "source": [
    "import logging\n",
    "logger = logging.getLogger()\n",
    "logger.setLevel(logging.DEBUG)\n",
    "import os\n",
    "\n",
    "import pylab as plt\n",
    "import numpy as np\n",
    "import numexpr as ne\n",
    "import cv2\n",
    "import time\n",
    "import astra\n",
    "import tomopy\n",
    "import requests, json\n",
    "import imp\n",
    "import configparser\n",
    "from skimage.restoration import denoise_nl_means, estimate_sigma\n",
    "from skimage.measure import compare_psnr\n",
    "from skimage.transform import resize\n",
    "import h5py"
   ]
  },
  {
   "cell_type": "code",
   "execution_count": null,
   "metadata": {},
   "outputs": [],
   "source": [
    "plt.viridis();"
   ]
  },
  {
   "cell_type": "code",
   "execution_count": null,
   "metadata": {},
   "outputs": [],
   "source": [
    "config = configparser.ConfigParser()\n",
    "config.read('tomo.ini')\n",
    "experiment_id = config['SAMPLE']['_id']\n",
    "# experiment_id = \"dd3a7738-f2d7-4c85-b5b4-0a0b6b8df3b9\"\n",
    "print(experiment_id)"
   ]
  },
  {
   "cell_type": "code",
   "execution_count": null,
   "metadata": {},
   "outputs": [],
   "source": [
    "# import sys\n",
    "# sys.path.insert(0,'/home/makov/workspace/tomography_scripts/tomo/rbtm')\n",
    "# experiment_id = '3594d54a-060a-480c-b258-48e73ea047e6'"
   ]
  },
  {
   "cell_type": "code",
   "execution_count": null,
   "metadata": {},
   "outputs": [],
   "source": [
    "import tomotools"
   ]
  },
  {
   "cell_type": "code",
   "execution_count": null,
   "metadata": {},
   "outputs": [],
   "source": [
    "data_dir = '/fast/'\n",
    "\n",
    "tmp_dir = os.path.join(data_dir, experiment_id)\n",
    "tomotools.mkdir_p(tmp_dir)\n",
    "data_file = tomotools.get_experiment_hdf5(experiment_id, data_dir)\n"
   ]
  },
  {
   "cell_type": "code",
   "execution_count": null,
   "metadata": {},
   "outputs": [],
   "source": [
    "empty_images, empty_angles = tomotools.get_frame_group(data_file, 'empty', tmp_dir)\n",
    "dark_images, dark_angles = tomotools.get_frame_group(data_file, 'dark', tmp_dir)\n",
    "\n",
    "empty_image = np.median(empty_images,axis=0) \n",
    "dark_image = np.median(dark_images,axis=0)\n",
    "\n",
    "\n",
    "empty_beam = empty_image - dark_image\n",
    "\n",
    "\n",
    "mask = empty_beam > 0.01\n",
    "\n",
    "# Загружаем кадры с даннымии\n",
    "#TODO: добавить поддержку, когда много кадров на одном угле\n",
    "data_images, data_angles = tomotools.get_frame_group(data_file, 'data', tmp_dir)\n",
    "\n",
    "data_images_clear, _  = tomotools.load_create_mm(os.path.join(tmp_dir,'data_images_clear.tmp'),\n",
    "                        shape=data_images.shape,dtype='float32')\n",
    "\n",
    "ne.evaluate('data_images - dark_image', out = data_images_clear);"
   ]
  },
  {
   "cell_type": "code",
   "execution_count": null,
   "metadata": {},
   "outputs": [],
   "source": [
    "import matplotlib\n",
    "matplotlib.rcParams.update({'font.size': 16})"
   ]
  },
  {
   "cell_type": "code",
   "execution_count": null,
   "metadata": {
    "scrolled": false
   },
   "outputs": [],
   "source": [
    "plt.gray()\n",
    "plt.figure(figsize=(10,20))\n",
    "plt.subplot(311)\n",
    "plt.imshow(empty_image.T, vmin=0, vmax=1000, interpolation='bilinear')\n",
    "cbar = plt.colorbar()\n",
    "cbar.set_label('Интенсивность, усл.ед.', rotation=90)\n",
    "plt.title('Прямой пучок')\n",
    "plt.xlabel('Номер канала детектора')\n",
    "plt.ylabel('Номер канала детектора')\n",
    "\n",
    "plt.subplot(312)\n",
    "plt.imshow(dark_image.T, vmin=0, vmax=1000, interpolation='bilinear')\n",
    "cbar = plt.colorbar()\n",
    "cbar.set_label('Интенсивность, усл.ед.', rotation=90)\n",
    "plt.title('Темновой ток')\n",
    "plt.xlabel('Номер канала детектора')\n",
    "plt.ylabel('Номер канала детектора')\n",
    "\n",
    "plt.subplot(313)\n",
    "plt.imshow(data_images_clear[0].T, vmin=0, vmax=1000, interpolation='bilinear')\n",
    "cbar = plt.colorbar()\n",
    "cbar.set_label('Интенсивность, усл.ед.', rotation=90)\n",
    "plt.title('Изображение объекта')\n",
    "plt.xlabel('Номер канала детектора')\n",
    "plt.ylabel('Номер канала детектора')"
   ]
  },
  {
   "cell_type": "code",
   "execution_count": null,
   "metadata": {},
   "outputs": [],
   "source": [
    "plt.figure(figsize=(10,7))\n",
    "plt.plot(data_images_clear.sum(axis=-1).sum(axis=-1))\n",
    "plt.hlines(np.median(data_images_clear.sum(axis=-1).sum(axis=-1)),0, len(data_images_clear),'r')\n",
    "plt.grid()\n",
    "plt.show()"
   ]
  },
  {
   "cell_type": "code",
   "execution_count": null,
   "metadata": {},
   "outputs": [],
   "source": [
    "del data_images\n",
    "# del data_angles\n",
    "del empty_image\n",
    "del empty_images\n",
    "del dark_images\n",
    "del dark_image\n"
   ]
  },
  {
   "cell_type": "code",
   "execution_count": null,
   "metadata": {},
   "outputs": [],
   "source": [
    "data_std = np.std(data_images_clear,axis=0)\n",
    "data_std = cv2.medianBlur(data_std,3)\n",
    "data_mean = np.mean(data_images_clear,axis=0)\n",
    "data_mean = cv2.medianBlur(data_mean,3)\n",
    "data_mean[data_mean<=1] = 1"
   ]
  },
  {
   "cell_type": "code",
   "execution_count": null,
   "metadata": {},
   "outputs": [],
   "source": [
    "k  = data_std.sum(axis=-1)/(data_mean**0.5).sum(axis=-1)\n",
    "\n",
    "curve = []\n",
    "for i in range(1,99):\n",
    "    curve.append(k[k>np.percentile(k,i)].sum())\n",
    "    \n",
    "kd = np.diff(curve)\n",
    "# kd = kd-kd[0]\n",
    "\n",
    "# thrh_d = kd[0:10].mean()\n",
    "thrh_d = (kd[0]+kd[-1])/5.\n",
    "thrh_pos = np.min(np.argwhere(kd[11:]<thrh_d))+11\n",
    "thrh = np.percentile(k,thrh_pos)\n",
    "\n",
    "x_min = np.min(np.argwhere(k>thrh))\n",
    "x_min = np.max([200, x_min-100])\n",
    "x_max = np.max(np.argwhere(k>thrh))\n",
    "x_max = np.min([len(k)-200, x_max+100])\n",
    "\n",
    "print(thrh_pos)\n",
    "plt.figure(figsize=(10,10))\n",
    "plt.plot(kd,'x')\n",
    "\n",
    "plt.grid()\n",
    "\n",
    "plt.figure(figsize=(10,10))\n",
    "plt.plot(k)\n",
    "plt.hlines(np.percentile(k,thrh_pos),0,len(k))\n",
    "# plt.hlines(thrh,0,3000)\n",
    "plt.hlines(np.percentile(k,95),0,len(k))\n",
    "plt.vlines([x_min, x_max], 0,k.max())\n",
    "# plt.plot(data_std.sum(axis=-1))\n",
    "# plt.plot(data_mean.sum(axis=-1))\n",
    "# plt.plot(data_max.sum(axis=-1))\n",
    "plt.grid()"
   ]
  },
  {
   "cell_type": "code",
   "execution_count": null,
   "metadata": {},
   "outputs": [],
   "source": [
    "plt.gray()\n",
    "plt.figure(figsize=(10,10))\n",
    "\n",
    "plt.imshow(data_std[x_min:x_max,:].T, vmin=0, vmax=100, interpolation='bilinear')\n",
    "cbar = plt.colorbar()\n",
    "cbar.set_label('STD, усл.ед.', rotation=90)\n",
    "plt.title('STD')"
   ]
  },
  {
   "cell_type": "code",
   "execution_count": null,
   "metadata": {},
   "outputs": [],
   "source": [
    "# mask_x_min, mask_x_max, mask_y_min, mask_y_max = crop_mask(mask, 400, 400, 100, 100)\n",
    "\n",
    "mask_x_min, mask_x_max, mask_y_min, mask_y_max = x_min, x_max, 100, mask.shape[1]-100\n",
    "mask_new = np.copy(mask[mask_x_min:mask_x_max,mask_y_min:mask_y_max])\n",
    "# empty_beam = empty_beam[mask_x_min:mask_x_max,mask_y_min:mask_y_max]\n",
    "## FIX IT\n",
    "# data_images_croped = data_images_croped[:, mask_x_min:mask_x_max,mask_y_min:mask_y_max]\n",
    "\n",
    "data_images_masked, _ = tomotools.load_create_mm(os.path.join(tmp_dir,'data_images_masked.tmp'),\n",
    "                                   shape = (data_angles.shape[0],\n",
    "                                           mask_new.shape[0], mask_new.shape[1]), dtype='float32',\n",
    "                                   force_create=True)\n",
    "\n",
    "empty_masked, _ = tomotools.load_create_mm(os.path.join(tmp_dir,'empty_images_masked.tmp'),\n",
    "                                   shape = (mask_new.shape[0], mask_new.shape[1]), dtype='float32',\n",
    "                                   force_create=True)\n",
    "\n",
    "empty_masked[:] = empty_beam[mask_x_min:mask_x_max,mask_y_min:mask_y_max]\n",
    "\n",
    "plt.gray()\n",
    "plt.figure(figsize=(10,10))\n",
    "plt.imshow(data_images_clear[0, mask_x_min:mask_x_max,mask_y_min:mask_y_max].T,\n",
    "           vmin=0, vmax=1000, interpolation='bilinear')\n",
    "cbar = plt.colorbar()\n",
    "cbar.set_label('Пропускание, усл.ед.', rotation=90)\n",
    "plt.title('Отнормированное изображение')\n",
    "\n",
    "\n",
    "\n",
    "# plt.figure()\n",
    "# plt.imshow(data_images_clear[0, mask_x_min:mask_x_max,mask_y_min:mask_y_max], interpolation='nearest')\n",
    "# plt.colorbar(orientation='horizontal')\n",
    "\n",
    "for di in range(data_images_masked.shape[0]):\n",
    "    data_images_masked[di] = data_images_clear[di, mask_x_min:mask_x_max,mask_y_min:mask_y_max]\n",
    "#     data_images_masked[di] = cv2.medianBlur(data_images_masked[di],3)"
   ]
  },
  {
   "cell_type": "code",
   "execution_count": null,
   "metadata": {},
   "outputs": [],
   "source": [
    "del empty_beam\n",
    "del data_images_clear"
   ]
  },
  {
   "cell_type": "code",
   "execution_count": null,
   "metadata": {},
   "outputs": [],
   "source": [
    "def group_data(data_images,data_angles,  mmap_file_dir):\n",
    "    uniq_angles,_ = tomotools.load_create_mm(\n",
    "        os.path.join(mmap_file_dir,'uniq_angles.tmp'),\n",
    "        shape=(len(list(set(data_angles))),),\n",
    "        dtype='float32',force_create=True)\n",
    "    uniq_angles[:] = list(set(data_angles))\n",
    "    \n",
    "    uniq_data_images,_ = tomotools.load_create_mm(\n",
    "        os.path.join(mmap_file_dir,'uniq_data_images.tmp'),\n",
    "        shape=(len(uniq_angles), data_images.shape[1], data_images.shape[2]),\n",
    "        dtype='float32',force_create=True)\n",
    "\n",
    "    for ua_id, ua in enumerate(uniq_angles):\n",
    "        indexes = np.argwhere(data_angles==uniq_angles[ua_id])\n",
    "        if len(indexes)>1:\n",
    "            tmp_images = data_images[indexes]\n",
    "            tmp_images = np.squeeze(tmp_images)\n",
    "            mean_image = np.mean(tmp_images, axis=0)\n",
    "            uniq_data_images[ua_id] = mean_image\n",
    "        else:\n",
    "            uniq_data_images[ua_id]=data_images[indexes]\n",
    "    return uniq_data_images, uniq_angles\n",
    "\n",
    "uniq_data_images, uniq_angles = group_data(data_images_masked, data_angles, tmp_dir)\n",
    "del data_images_masked, data_angles"
   ]
  },
  {
   "cell_type": "code",
   "execution_count": null,
   "metadata": {},
   "outputs": [],
   "source": [
    "#normalize data frames and calculate sinograms\n",
    "# empty_masked[empty_masked <= 0] = 1e-9\n",
    "\n",
    "for di in range(uniq_data_images.shape[0]):\n",
    "    t = uniq_data_images[di]\n",
    "    t = t/empty_masked\n",
    "    t[t<1e-8] = 1e-8\n",
    "    t[t>1] = 1\n",
    "    uniq_data_images[di] = cv2.medianBlur(t,3)\n",
    "#     t[t<1e-8] = 1e-8\n",
    "#     t[t>1] = 1\n",
    "\n",
    "del empty_masked"
   ]
  },
  {
   "cell_type": "code",
   "execution_count": null,
   "metadata": {},
   "outputs": [],
   "source": [
    "sinogram, _ = tomotools.load_create_mm(os.path.join(tmp_dir, 'sinogram.tmp'), shape=uniq_data_images.shape,\n",
    "                         dtype='float32') \n",
    "ne.evaluate('-log(uniq_data_images)', out=sinogram);  "
   ]
  },
  {
   "cell_type": "code",
   "execution_count": null,
   "metadata": {},
   "outputs": [],
   "source": [
    "# sinogram /= np.float32(9e-3)**2 # Normalize to pixel size"
   ]
  },
  {
   "cell_type": "code",
   "execution_count": null,
   "metadata": {},
   "outputs": [],
   "source": [
    "plt.gray()\n",
    "plt.figure(figsize=(7,5))\n",
    "plt.imshow(uniq_data_images[np.argsort(uniq_angles),:,int(sinogram.shape[-1]//2)],\n",
    "           vmin=0, vmax=1, interpolation='bilinear')\n",
    "plt.axis('tight')\n",
    "cbar = plt.colorbar()\n",
    "cbar.set_label('Пропускание, усл.ед.', rotation=90)\n",
    "plt.title('Синограмма без коррекции')"
   ]
  },
  {
   "cell_type": "code",
   "execution_count": null,
   "metadata": {},
   "outputs": [],
   "source": [
    "del uniq_data_images"
   ]
  },
  {
   "cell_type": "code",
   "execution_count": null,
   "metadata": {},
   "outputs": [],
   "source": [
    "# # build frames for video\n",
    "# images_dir = os.path.join(tmp_dir,'images')\n",
    "# tomotools.mkdir_p(images_dir)\n",
    "# im_max=np.max(sinogram)\n",
    "# im_min=np.min(sinogram)\n",
    "# print(im_min, im_max)\n",
    "# for ia, a in tomotools.log_progress(list(enumerate(np.argsort(uniq_angles)))):\n",
    "# #     print('{:34}'.format(ia))\n",
    "#     plt.imsave(os.path.join(images_dir,'prj_{:03}.png'.format(ia)),\n",
    "#                np.rot90(sinogram[a],3), vmin=im_min, vmax=im_max,\n",
    "#                cmap=plt.cm.gray_r)"
   ]
  },
  {
   "cell_type": "code",
   "execution_count": null,
   "metadata": {},
   "outputs": [],
   "source": [
    "# !cd {images_dir} && avconv -r 10 -i \"prj_%03d.png\" -b:v 1000k prj.avi"
   ]
  },
  {
   "cell_type": "code",
   "execution_count": null,
   "metadata": {},
   "outputs": [],
   "source": [
    "# !cd {images_dir} && rm prj.mp4"
   ]
  },
  {
   "cell_type": "code",
   "execution_count": null,
   "metadata": {},
   "outputs": [],
   "source": [
    "tmp_sinogram = sinogram[np.argsort(uniq_angles),:,int(sinogram.shape[-1]//2)+3]\n",
    "\n",
    "plt.figure(figsize=(10,10))\n",
    "plt.imshow(tmp_sinogram, cmap=plt.cm.viridis, interpolation='nearest')\n",
    "plt.axis('tight')\n",
    "plt.colorbar(orientation='horizontal')"
   ]
  },
  {
   "cell_type": "code",
   "execution_count": null,
   "metadata": {},
   "outputs": [],
   "source": [
    "import scipy.ndimage\n",
    "def my_rc(sino0, level):\n",
    "    def get_my_b(level):\n",
    "        t= np.mean(sino0, axis=0)\n",
    "        gt = scipy.ndimage.filters.gaussian_filter1d(t,level/2.)\n",
    "        return gt-t\n",
    "    \n",
    "    def get_my_a(level):\n",
    "        my_b = get_my_b(level)\n",
    "        return np.mean(my_b)/my_b.shape[0]\n",
    "    \n",
    "    my_a = get_my_a(level)\n",
    "    my_b = get_my_b(level)\n",
    "    \n",
    "    res = sino0.copy()\n",
    "    if not level==0:\n",
    "        res+= sino0*my_a+my_b\n",
    "    \n",
    "    return res"
   ]
  },
  {
   "cell_type": "code",
   "execution_count": null,
   "metadata": {},
   "outputs": [],
   "source": [
    "rc_level = 5"
   ]
  },
  {
   "cell_type": "code",
   "execution_count": null,
   "metadata": {},
   "outputs": [],
   "source": [
    "plt.figure(figsize=(10,10))\n",
    "plt.imshow(my_rc(tmp_sinogram, rc_level), cmap=plt.cm.viridis, interpolation='nearest')\n",
    "plt.axis('tight')\n",
    "plt.colorbar(orientation='horizontal')"
   ]
  },
  {
   "cell_type": "code",
   "execution_count": null,
   "metadata": {},
   "outputs": [],
   "source": [
    "for s in tomotools.log_progress(range(sinogram.shape[1])):\n",
    "    sinogram[:,s,:] = my_rc(sinogram[:,s,:], rc_level)"
   ]
  },
  {
   "cell_type": "code",
   "execution_count": null,
   "metadata": {},
   "outputs": [],
   "source": [
    "tmp_sinogram = sinogram[np.argsort(uniq_angles),:,int(sinogram.shape[-1]//2)+3]\n",
    "\n",
    "plt.figure(figsize=(10,10))\n",
    "plt.imshow(tmp_sinogram, cmap=plt.cm.viridis, interpolation='nearest')\n",
    "plt.axis('tight')\n",
    "plt.colorbar(orientation='horizontal')"
   ]
  },
  {
   "cell_type": "code",
   "execution_count": null,
   "metadata": {},
   "outputs": [],
   "source": [
    "# seraching detector rotation angle\n",
    "for zero_angle in uniq_angles:\n",
    "#     zero_angle = np.min(uniq_angles)\n",
    "    position_0 = np.argwhere(np.isclose(uniq_angles, zero_angle, atol=0.05))[0][0]\n",
    "    position_180 = np.argwhere(np.isclose(uniq_angles, 180+zero_angle, atol=0.05))\n",
    "    if len(position_180)>0:\n",
    "        position_180=position_180[0][0]\n",
    "        print(uniq_angles[position_0], position_0)\n",
    "        print(uniq_angles[position_180], position_180)\n",
    "        break\n",
    "\n",
    "def cv_rotate(x, angle):\n",
    "    \"\"\"\n",
    "    Rotate square array using OpenCV2 around center of the array\n",
    "    :param x: 2d numpy array\n",
    "    :param angle: angle in degrees\n",
    "    :return: rotated array\n",
    "    \"\"\"\n",
    "    x_center = tuple(\n",
    "        np.array((x.shape[1], x.shape[0]), dtype='float32') / 2.0 - 0.5)\n",
    "    rot_mat = cv2.getRotationMatrix2D(x_center, angle, 1.0)\n",
    "    xro = cv2.warpAffine(\n",
    "        x, rot_mat, (x.shape[1], x.shape[0]), flags=cv2.INTER_LINEAR)\n",
    "    return xro\n",
    "\n",
    "\n",
    "data_0_orig = np.rot90(sinogram[position_0]).copy()\n",
    "data_180_orig = np.rot90(sinogram[position_180]).copy()"
   ]
  },
  {
   "cell_type": "code",
   "execution_count": null,
   "metadata": {},
   "outputs": [],
   "source": [
    "def grad(x):\n",
    "    return np.sqrt((np.diff(x, axis=0)**2)[:,:-1]+(np.diff(x, axis=1)**2)[:-1,:])\n",
    "\n",
    "data_0 = cv2.medianBlur(data_0_orig,3)\n",
    "data_180 = cv2.medianBlur(data_180_orig,3)\n",
    "\n",
    "data_0 = grad(data_0)\n",
    "data_180 = grad(data_180)"
   ]
  },
  {
   "cell_type": "code",
   "execution_count": null,
   "metadata": {},
   "outputs": [],
   "source": [
    "from skimage.measure import compare_ssim, compare_nrmse"
   ]
  },
  {
   "cell_type": "code",
   "execution_count": null,
   "metadata": {},
   "outputs": [],
   "source": [
    "from scipy.optimize import minimize\n",
    "from scipy.linalg import norm\n",
    "def corr(x):\n",
    "    alfa= x[0]/10.\n",
    "    shift_x = int(x[1])\n",
    "    if shift_x >= 0:\n",
    "        t_180 = data_180[:,shift_x:]\n",
    "        t_0 = data_0[:,shift_x:]\n",
    "    else:\n",
    "        t_180 = data_180[:,:shift_x]\n",
    "        t_0 = data_0[:,:shift_x]\n",
    "        \n",
    "   \n",
    "    tt_180 = np.fliplr(cv_rotate(t_180,alfa))\n",
    "    tt_180 = cv2.medianBlur(tt_180, 3) #*t_mask\n",
    "    tt_0 = cv_rotate(t_0,alfa)\n",
    "    tt_0 = cv2.medianBlur(tt_0, 3) #*t_mask\n",
    "\n",
    "    res = compare_nrmse(tt_0, tt_180)\n",
    "\n",
    "    return res\n",
    "\n",
    "s180 = data_180_orig.sum(axis=0)\n",
    "r180 = np.flipud(np.arange(len(s180)))\n",
    "p180 = (s180*r180).sum()/s180.sum()\n",
    "\n",
    "\n",
    "s0 = data_0_orig.sum(axis=0)\n",
    "r0 = np.arange(len(s0))\n",
    "p0 = (s0*r0).sum()/s0.sum()\n",
    "\n",
    "x0 = [1.,0.5*(p0-p180)]\n",
    "\n",
    "\n",
    "left = x0[1]-200\n",
    "right = x0[1]+200\n",
    "qq = [corr([0,q]) for q in np.arange(left,right)]\n",
    "min_pos = left+np.argmin(qq)\n",
    "if min_pos==left or min_pos==right:\n",
    "    position_found = False\n",
    "else:\n",
    "    position_found = True\n",
    "\n",
    "plt.figure()\n",
    "plt.plot(np.arange(left,right),qq)\n",
    "plt.grid()\n",
    "plt.show()\n",
    "\n",
    "while not position_found:\n",
    "    if min_pos == left:\n",
    "        right=left\n",
    "        left=right-200\n",
    "    elif min_pos == right:\n",
    "        left=right\n",
    "        right = left+200\n",
    "     \n",
    "    qq = [corr([0,q]) for q in np.arange(left,right)]\n",
    "    min_pos = left+np.argmin(qq)\n",
    "    if min_pos==left or min_pos==right:\n",
    "        position_found = False\n",
    "    else:\n",
    "        position_found = True\n",
    "    \n",
    "    plt.figure()\n",
    "    plt.plot(np.arange(left,right),qq)\n",
    "    plt.grid()\n",
    "    plt.show()\n",
    "    \n",
    "            \n",
    "shift_0 = min_pos\n",
    "x0 = [1.,shift_0]\n",
    "res= minimize(corr, x0, method='Powell')\n",
    "print(res)"
   ]
  },
  {
   "cell_type": "code",
   "execution_count": null,
   "metadata": {
    "scrolled": false
   },
   "outputs": [],
   "source": [
    "# alfa, shift_x, shift_y = res.x[0]/10, int(res.x[1]), int(res.x[2])//10\n",
    "\n",
    "alfa, shift_x, shift_y = res.x[0]/10., int(np.floor(res.x[1])), 0\n",
    "\n",
    "if shift_x >= 0:\n",
    "    t_180 = data_180_orig[:,shift_x:]\n",
    "    t_0 = data_0_orig[:,shift_x:]\n",
    "else:\n",
    "    t_180 = data_180_orig[:,:shift_x]\n",
    "    t_0 = data_0_orig[:,:shift_x]\n",
    "\n",
    "if shift_y > 0:\n",
    "    t_180 = t_180[shift_y:,:]\n",
    "    t_0 = t_0[:-shift_y,:]\n",
    "elif shift_y < 0:\n",
    "    t_180 = t_180[:shift_y,:]\n",
    "    t_0 = t_0[-shift_y:,:]\n",
    "    \n",
    "    \n",
    "tt_180 = np.fliplr(cv_rotate(t_180,alfa))\n",
    "tt_0 = cv_rotate(t_0,alfa)\n",
    "    \n",
    "plt.figure(figsize=(15,15))\n",
    "plt.imshow(tt_180-tt_0, cmap=plt.cm.viridis)\n",
    "plt.title('a={}, sx={} sy={}'.format(alfa,shift_x, shift_y))\n",
    "plt.colorbar()\n",
    "plt.show()"
   ]
  },
  {
   "cell_type": "code",
   "execution_count": null,
   "metadata": {},
   "outputs": [],
   "source": [
    "plt.gray()\n",
    "plt.figure(figsize=(15,15))\n",
    "im_max = np.max([np.max(data_0_orig), np.max(data_180_orig)])\n",
    "plt.subplot(221)\n",
    "plt.imshow(data_0_orig, vmin=0, vmax=im_max, cmap=plt.cm.gray_r)\n",
    "plt.axis('tight')\n",
    "plt.title('a')\n",
    "plt.xlabel('Каналы детектора')\n",
    "plt.ylabel('Каналы детектора')\n",
    "cbar = plt.colorbar()\n",
    "cbar.set_label('Поглощение, усл.ед.', rotation=90)\n",
    "\n",
    "plt.subplot(222)\n",
    "plt.imshow(data_180_orig, vmin=0, vmax=im_max, cmap=plt.cm.gray_r)\n",
    "plt.axis('tight')\n",
    "plt.title('б')\n",
    "plt.xlabel('Каналы детектора')\n",
    "plt.ylabel('Каналы детектора')\n",
    "cbar = plt.colorbar()\n",
    "cbar.set_label('Поглощение, усл.ед.', rotation=90)\n",
    "\n",
    "plt.subplot(223)\n",
    "plt.imshow(data_0_orig - np.fliplr(data_180_orig), vmin=-im_max/2, vmax=im_max/2, cmap=plt.cm.gray_r)\n",
    "plt.axis('tight')\n",
    "plt.title('в')\n",
    "plt.xlabel('Каналы детектора')\n",
    "plt.ylabel('Каналы детектора')\n",
    "cbar = plt.colorbar()\n",
    "cbar.set_label('Поглощение, усл.ед.', rotation=90)\n",
    "\n",
    "plt.subplot(224)\n",
    "# alfa = 0.1\n",
    "# shift = -77\n",
    "plt.imshow(1.0*(tt_180-tt_0), vmin=-im_max/2, vmax=im_max/2, cmap=plt.cm.gray_r)\n",
    "plt.axis('tight')\n",
    "plt.title('г')\n",
    "plt.xlabel('Каналы детектора')\n",
    "plt.ylabel('Каналы детектора')\n",
    "cbar = plt.colorbar()\n",
    "cbar.set_label('Поглощение, усл.ед.', rotation=90)\n",
    "\n",
    "\n",
    "plt.figure(figsize=(7, 5))\n",
    "plt.plot(np.arange(left,right),qq)\n",
    "plt.xlabel('Сдвиг позиции оси вращения, каналы детектора')\n",
    "plt.ylabel('Значение оптимизируемой функции')\n",
    "plt.grid()\n",
    "plt.show()\n",
    "\n",
    "# plt.colorbar(orientation='horizontal')\n",
    "# plt.imshow(uniq_data_images[np.argsort(uniq_angles),:,int(sinogram.shape[-1]//2)],\n",
    "#            vmin=0, vmax=1, interpolation='bilinear')\n",
    "# plt.axis('tight')\n",
    "# cbar = plt.colorbar()\n",
    "# cbar.set_label('Пропускание, усл.ед.', rotation=90)\n",
    "# plt.title('Синограмма без коррекции')"
   ]
  },
  {
   "cell_type": "code",
   "execution_count": null,
   "metadata": {},
   "outputs": [],
   "source": [
    "sinogram_fixed, _ = tomotools.load_create_mm(os.path.join(tmp_dir,'sinogram_fixed.tmp'),\n",
    "                                shape=(sinogram.shape[0], sinogram.shape[1]+abs(shift_x),sinogram.shape[2]),\n",
    "                                dtype='float32', force_create=True)\n",
    "\n",
    "#fix axis tlit\n",
    "for i in range(sinogram.shape[0]):\n",
    "    t = sinogram[i].copy()\n",
    "#     if shift_x > 0:\n",
    "#         t = t[shift_x:]\n",
    "#     elif shift_x < 0:\n",
    "#         t = t[:shift_x]\n",
    "    t_angle = uniq_angles[i]\n",
    "    \n",
    "    if not shift_y ==0 :\n",
    "        delta_angle = t_angle - uniq_angles[position_0]+90\n",
    "        tmp_shift_y = int(np.sin(delta_angle/180.*np.pi)*shift_y)\n",
    "        t = np.roll(t, -tmp_shift_y, -1)\n",
    "        t[:,0:np.abs(shift_y)]=0\n",
    "        t[:,-np.abs(shift_y):]=0\n",
    "        \n",
    "    t = cv_rotate(t, alfa)\n",
    "    if shift_x>0:\n",
    "        sinogram_fixed[i, :-shift_x] = t\n",
    "    else:\n",
    "        sinogram_fixed[i, -shift_x:] = t\n",
    "    "
   ]
  },
  {
   "cell_type": "code",
   "execution_count": null,
   "metadata": {},
   "outputs": [],
   "source": [
    "s1 = np.require(sinogram_fixed[np.argsort(uniq_angles),:,int(sinogram_fixed.shape[-1]//2)],\n",
    "                dtype=np.float32, requirements=['C'])"
   ]
  },
  {
   "cell_type": "code",
   "execution_count": null,
   "metadata": {},
   "outputs": [],
   "source": [
    "plt.figure(figsize=(7,7))\n",
    "\n",
    "plt.imshow(s1,\n",
    "           vmin=0, vmax=2, interpolation='bilinear', cmap=plt.cm.gray_r)\n",
    "plt.axis('tight')\n",
    "cbar = plt.colorbar()\n",
    "cbar.set_label('Пропускание, усл.ед.', rotation=90)\n",
    "plt.title('Синограмма без коррекции')\n",
    "plt.xlabel('Номер канала детектора')\n",
    "plt.ylabel('Номер угла поворота')\n"
   ]
  },
  {
   "cell_type": "code",
   "execution_count": null,
   "metadata": {},
   "outputs": [],
   "source": [
    "#TODO: check mu physical value\n",
    "sinogram_fixed_median = np.median(sinogram_fixed.sum(axis=-1).sum(axis=-1))\n",
    "corr_factor = sinogram_fixed.sum(axis=-1).sum(axis=-1)/sinogram_fixed_median"
   ]
  },
  {
   "cell_type": "code",
   "execution_count": null,
   "metadata": {},
   "outputs": [],
   "source": [
    "#TODO: remove bad data\n",
    "sinogram_fixed = (sinogram_fixed.T/corr_factor).T"
   ]
  },
  {
   "cell_type": "code",
   "execution_count": null,
   "metadata": {},
   "outputs": [],
   "source": [
    "s2 = np.require(sinogram_fixed[np.argsort(uniq_angles),:,int(sinogram_fixed.shape[-1]//2)],\n",
    "                dtype=np.float32, requirements=['C'])"
   ]
  },
  {
   "cell_type": "code",
   "execution_count": null,
   "metadata": {},
   "outputs": [],
   "source": [
    "plt.figure(figsize=(7,7))\n",
    "\n",
    "s2 = (s1.T/s1.sum(axis=-1)*s1.sum(axis=-1).mean()).T\n",
    "\n",
    "plt.imshow(s2,\n",
    "           vmin=0, vmax=2, interpolation='bilinear', cmap=plt.cm.gray_r)\n",
    "plt.axis('tight')\n",
    "cbar = plt.colorbar()\n",
    "cbar.set_label('Пропускание, усл.ед.', rotation=90)\n",
    "plt.title('Синограмма c коррекцией')\n",
    "plt.xlabel('Номер канала детектора')\n",
    "plt.ylabel('Номер угла поворота')\n",
    "\n",
    "plt.figure(figsize=(7, 5))\n",
    "plt.plot(s1.sum(axis=-1),'k--', label='Без коррекций')\n",
    "plt.plot(s2.sum(axis=-1), 'r', lw=2, label='С коррекцией')\n",
    "plt.xlabel('Номер угла поворота')\n",
    "plt.ylabel('Интеграл по изображению')\n",
    "plt.grid()\n",
    "plt.legend()\n",
    "plt.show()"
   ]
  },
  {
   "cell_type": "code",
   "execution_count": null,
   "metadata": {},
   "outputs": [],
   "source": [
    "del sinogram_fixed"
   ]
  },
  {
   "cell_type": "code",
   "execution_count": null,
   "metadata": {},
   "outputs": [],
   "source": [
    "del data_0, data_180 ,tmp_sinogram, uniq_angles"
   ]
  },
  {
   "cell_type": "code",
   "execution_count": null,
   "metadata": {},
   "outputs": [],
   "source": [
    "del mask, t_0, t_180, zero_angle"
   ]
  },
  {
   "cell_type": "code",
   "execution_count": null,
   "metadata": {},
   "outputs": [],
   "source": [
    "files_to_remove =  ['data_images_clear.tmp','data_images_masked.tmp',\n",
    "                    'empty_images_masked.tmp',\n",
    "                    'uniq_data_images.tmp','sinogram.tmp',\n",
    "                    'group_empty.tmp','group_empty_angles.tmp',\n",
    "                    'group_dark.tmp','group_dark_angles.tmp',\n",
    "                    'group_data.tmp','group_data_angles.tmp'\n",
    "                   ]\n",
    "for fr in files_to_remove:\n",
    "    try:\n",
    "        os.remove(os.path.join(tmp_dir,fr))\n",
    "    except:\n",
    "        pass\n",
    "    try:\n",
    "        os.remove(os.path.join(tmp_dir,fr+'.size'))\n",
    "    except:\n",
    "        pass"
   ]
  },
  {
   "cell_type": "code",
   "execution_count": null,
   "metadata": {},
   "outputs": [],
   "source": [
    "uniq_angles, _ = tomotools.load_create_mm(os.path.join(tmp_dir,'uniq_angles.tmp'),\n",
    "                             shape= None,\n",
    "                             dtype='float32')\n",
    "s1, _ = tomotools.load_create_mm(os.path.join(tmp_dir,'sinogram_fixed.tmp'),\n",
    "                                shape= None,\n",
    "                                dtype='float32')\n",
    "\n",
    "rec_vol, _ = tomotools.load_create_mm(os.path.join(tmp_dir,'rec.tmp'),\n",
    "               dtype=np.float32,\n",
    "               shape = (s1.shape[-1],s1.shape[1],s1.shape[1]))\n",
    "\n"
   ]
  },
  {
   "cell_type": "code",
   "execution_count": null,
   "metadata": {},
   "outputs": [],
   "source": [
    "pixel_size = 9e-3\n",
    "def astra_tomo2d_parallel(sinogram, angles):\n",
    "    astra.astra.set_gpu_index([1,])\n",
    "    angles = angles.astype('float64')\n",
    "    detector_size = sinogram.shape[1]\n",
    "    \n",
    "\n",
    "    rec_size = detector_size\n",
    "    vol_geom = astra.create_vol_geom(rec_size, rec_size)\n",
    "    proj_geom = astra.create_proj_geom('parallel', 1.0, detector_size, angles)\n",
    "\n",
    "\n",
    "    sinogram_id = astra.data2d.create('-sino', proj_geom, data=sinogram)\n",
    "    # Create a data object for the reconstruction\n",
    "    rec_id = astra.data2d.create('-vol', vol_geom)\n",
    "#     proj_id = astra.create_projector('strip', proj_geom, vol_geom) # for CPU reconstruction only\n",
    "    # Set up the parameters for a reconstruction algorithm using the GPU\n",
    "    cfg = astra.astra_dict('FBP_CUDA')\n",
    "    cfg['ReconstructionDataId'] = rec_id\n",
    "    cfg['ProjectionDataId'] = sinogram_id\n",
    "#     cfg['ProjectorId'] = proj_id # for CPU reconstruction only\n",
    "    cfg['option'] = {}\n",
    "    \n",
    "    alg_id = astra.algorithm.create(cfg)\n",
    "    astra.algorithm.run(alg_id, 1)\n",
    "    \n",
    "    cfg = astra.astra_dict('CGLS_CUDA')\n",
    "    cfg['ReconstructionDataId'] = rec_id\n",
    "    cfg['ProjectionDataId'] = sinogram_id\n",
    "#     cfg['ProjectorId'] = proj_id # for CPU reconstruction only\n",
    "    cfg['option'] = {}\n",
    "#     cfg['option']['MinConstraint'] = -0.01\n",
    "\n",
    "    alg_id = astra.algorithm.create(cfg)\n",
    "    \n",
    "    # Run 150 iterations of the algorithm\n",
    "    astra.algorithm.run(alg_id, 10)\n",
    "    \n",
    "    # Get the result\n",
    "    rec = astra.data2d.get(rec_id)/pixel_size  #fixit\n",
    "    \n",
    "    # Clean up. Note that GPU memory is tied up in the algorithm object,\n",
    "    # and main RAM in the data objects.\n",
    "    astra.algorithm.delete(alg_id)\n",
    "    astra.data2d.delete(rec_id)\n",
    "    astra.data2d.delete(sinogram_id)\n",
    "    astra.clear()\n",
    "    return rec\n",
    "\n",
    "def astra_tomo3d_parallel(sinogram, angles, rec_vol, slice_start, slice_stop):\n",
    "    astra.astra.set_gpu_index([1,])\n",
    "    angles = angles.astype('float64')\n",
    "    detector_size = sinogram.shape[1]\n",
    "#         slices_number = sinogram.shape[0]\n",
    "    slices_number = slice_stop - slice_start\n",
    "        \n",
    "    rec_size = detector_size\n",
    "    vol_geom = astra.create_vol_geom(rec_size, rec_size, slices_number)\n",
    "    proj_geom = astra.create_proj_geom('parallel3d', 1.0, 1.0,  slices_number, detector_size, angles)\n",
    "\n",
    "\n",
    "    sinogram_id = astra.data3d.create('-sino', proj_geom, np.rollaxis(sinogram,-1)[slice_start:slice_stop])\n",
    "    # Create a data object for the reconstruction\n",
    "#     rec_id = astra.data3d.link('-vol', vol_geom, rec_vol[slice_start:slice_stop])\n",
    "    rec_id = astra.data3d.create('-vol', vol_geom)\n",
    "    # Set up the parameters for a reconstruction algorithm using the GPU\n",
    "    cfg = astra.astra_dict('CGLS3D_CUDA')\n",
    "    cfg['ReconstructionDataId'] = rec_id\n",
    "    cfg['ProjectionDataId'] = sinogram_id\n",
    "#     cfg['ProjectorId'] = proj_id # for CPU reconstruction only\n",
    "    cfg['option'] = {}\n",
    "#     cfg['option']['GPUindex'] = 1\n",
    "    cfg['option']['MinConstraint'] = -0.01\n",
    "\n",
    "    # Available algorithms:\n",
    "    # SIRT_CUDA, SART_CUDA, EM_CUDA, FBP_CUDA (see the FBP sample)\n",
    "\n",
    "    # Create the algorithm object from the configuration structure\n",
    "    alg_id = astra.algorithm.create(cfg)\n",
    "#     astra.data3d.info()\n",
    "    # Run 150 iterations of the algorithm\n",
    "    astra.algorithm.run(alg_id, 30)\n",
    "    \n",
    "    # Get the result\n",
    "    rec = astra.data3d.get(rec_id)/pixel_size  #fixit\n",
    "\n",
    "    # Clean up. Note that GPU memory is tied up in the algorithm object,\n",
    "    # and main RAM in the data objects.\n",
    "    astra.algorithm.delete(alg_id)\n",
    "    astra.data3d.delete(rec_id)\n",
    "    astra.data3d.delete(sinogram_id)\n",
    "    astra.clear()\n",
    "    return rec"
   ]
  },
  {
   "cell_type": "code",
   "execution_count": null,
   "metadata": {},
   "outputs": [],
   "source": [
    "# %%timeit\n",
    "#preview\n",
    "sss = s1[...,int(s1.shape[-1]/3)]\n",
    "t_angles = (uniq_angles-uniq_angles.min())<=180 # remove angles >180\n",
    "rec_slice = astra_tomo2d_parallel(sss[t_angles], uniq_angles[t_angles]*np.pi/180)\n",
    "\n",
    "plt.figure(figsize=(10,8))\n",
    "plt.imshow(rec_slice, vmin=0, cmap=plt.cm.gray_r)\n",
    "plt.axis('equal')\n",
    "plt.colorbar()\n",
    "plt.show()"
   ]
  },
  {
   "cell_type": "code",
   "execution_count": null,
   "metadata": {},
   "outputs": [],
   "source": [
    "#multi 2d case\n",
    "t = time.time()\n",
    "print(s1.shape)\n",
    "t_angles = (uniq_angles-uniq_angles.min())<=180  # remove angles >180\n",
    "angles =np.array(uniq_angles)*np.pi/180\n",
    "# for i in log_progress(range(1500, 1700, step)):\n",
    "for i in tomotools.log_progress(range(0, s1.shape[-1])):\n",
    "    sino = s1[t_angles,:,i]\n",
    "    rec_vol[i] = astra_tomo2d_parallel(sino, angles[t_angles])\n",
    "print(time.time()-t)"
   ]
  },
  {
   "cell_type": "code",
   "execution_count": null,
   "metadata": {},
   "outputs": [],
   "source": [
    "rec_vol_filtered, _ = tomotools.load_create_mm(os.path.join(tmp_dir,'rec_filtered.tmp'),\n",
    "               dtype=np.float32,\n",
    "               shape = rec_vol.shape)"
   ]
  },
  {
   "cell_type": "code",
   "execution_count": null,
   "metadata": {},
   "outputs": [],
   "source": [
    "t = time.time()\n",
    "print(rec_vol.shape)\n",
    "step = 200\n",
    "angles =np.array(uniq_angles)*np.pi/180\n",
    "# for i in log_progress(range(1500, 1700, step)):\n",
    "for i in tomotools.log_progress(range(0, rec_vol.shape[0], step)):\n",
    "    slice_start= i \n",
    "    slice_stop= min(i+step, s1.shape[-1])\n",
    "    rec_vol_filtered[slice_start:slice_stop] = tomopy.remove_ring(\n",
    "        rec_vol[slice_start:slice_stop],\n",
    "        thresh=0.0005,  theta_min=90, rwidth=10)\n",
    "print(time.time()-t)"
   ]
  },
  {
   "cell_type": "code",
   "execution_count": null,
   "metadata": {},
   "outputs": [],
   "source": [
    "del rec_vol"
   ]
  },
  {
   "cell_type": "code",
   "execution_count": null,
   "metadata": {},
   "outputs": [],
   "source": [
    "files_to_remove =  ['rec.tmp',]\n",
    "for fr in files_to_remove:\n",
    "    try:\n",
    "        os.remove(os.path.join(tmp_dir,fr))\n",
    "    except:\n",
    "        pass\n",
    "    try:\n",
    "        os.remove(os.path.join(tmp_dir,fr+'.size'))\n",
    "    except:\n",
    "        pass"
   ]
  },
  {
   "cell_type": "code",
   "execution_count": null,
   "metadata": {
    "scrolled": false
   },
   "outputs": [],
   "source": [
    "for i in range(10):\n",
    "        plt.figure(figsize=(10,10))\n",
    "        plt.imshow(rec_vol_filtered[i*rec_vol_filtered.shape[0]//10], cmap=plt.cm.viridis, vmin=0)\n",
    "        plt.axis('equal')\n",
    "        plt.title(i*i*rec_vol_filtered.shape[0]//10)\n",
    "        plt.colorbar()\n",
    "        plt.show()"
   ]
  },
  {
   "cell_type": "code",
   "execution_count": null,
   "metadata": {
    "scrolled": false
   },
   "outputs": [],
   "source": [
    "for i in range(10):\n",
    "        plt.figure(figsize=(10,10))\n",
    "        plt.imshow(rec_vol_filtered[:,i*rec_vol_filtered.shape[1]//10,:], cmap=plt.cm.viridis, vmin=0)\n",
    "        plt.axis('equal')\n",
    "        plt.title(i*i*rec_vol_filtered.shape[0]//10)\n",
    "        plt.colorbar()\n",
    "        plt.show()"
   ]
  },
  {
   "cell_type": "code",
   "execution_count": null,
   "metadata": {
    "scrolled": false
   },
   "outputs": [],
   "source": [
    "for i in range(10):\n",
    "        plt.figure(figsize=(10,10))\n",
    "        plt.imshow(rec_vol_filtered[:,:, i*rec_vol_filtered.shape[2]//10], cmap=plt.cm.viridis, vmin=0)\n",
    "        plt.axis('equal')\n",
    "        plt.title(i*i*rec_vol_filtered.shape[0]//10)\n",
    "        plt.colorbar()\n",
    "        plt.show()"
   ]
  },
  {
   "cell_type": "code",
   "execution_count": null,
   "metadata": {
    "scrolled": false
   },
   "outputs": [],
   "source": [
    "noisy = rec_vol_filtered[int(rec_vol_filtered.shape[0]*0.5)].astype('float64')\n",
    "noisy = resize(noisy, (noisy.shape[0]//1, noisy.shape[1]//1))\n",
    "# noisy = rec_vol_filtered[int(rec_vol_filtered.shape[0]*0.75)][::1,::1]\n",
    "sigma_est = np.mean(estimate_sigma(noisy, multichannel=False))\n",
    "print(\"estimated noise standard deviation = {}\".format(sigma_est))\n",
    "\n",
    "patch_kw = dict(patch_size=7,      # 5x5 patches\n",
    "                patch_distance=15,  # 13x13 search area\n",
    "                multichannel=False)\n",
    "\n",
    "# 1 algorithm\n",
    "denoise = denoise_nl_means(noisy, h=1.5 * sigma_est, fast_mode=True,\n",
    "                           **patch_kw)\n",
    "\n",
    "\n",
    "\n",
    "# 2 algorithm\n",
    "denoise_fast = denoise_nl_means(noisy,  h=0.8 * sigma_est, fast_mode=True,\n",
    "                                **patch_kw)\n",
    "\n",
    "\n",
    "plt.figure(figsize=(15, 30))\n",
    "plt.subplot(311)\n",
    "plt.imshow(noisy, interpolation='bilinear')\n",
    "plt.axis('off')\n",
    "plt.colorbar()\n",
    "plt.title('noisy')\n",
    "\n",
    "plt.subplot(312)\n",
    "plt.imshow(denoise, interpolation='bilinear')\n",
    "plt.axis('off')\n",
    "plt.colorbar()\n",
    "plt.title('non-local means\\n(1)')\n",
    "\n",
    "plt.subplot(313)\n",
    "plt.imshow(denoise_fast, interpolation='bilinear')\n",
    "plt.axis('off')\n",
    "plt.colorbar()\n",
    "plt.title('non-local means\\n(2)')\n",
    "\n",
    "plt.show()\n",
    "\n",
    "plt.figure(figsize=(15, 30))\n",
    "plt.subplot(321)\n",
    "plt.imshow(noisy, interpolation='bilinear')\n",
    "plt.axis('off')\n",
    "plt.colorbar()\n",
    "plt.title('noisy')\n",
    "\n",
    "plt.subplot(322)\n",
    "plt.hist(noisy.ravel(), bins=100);\n",
    "plt.grid()\n",
    "\n",
    "plt.subplot(323)\n",
    "plt.imshow(denoise, interpolation='bilinear')\n",
    "plt.axis('off')\n",
    "plt.colorbar()\n",
    "plt.title('non-local means\\n(1)')\n",
    "\n",
    "plt.subplot(324)\n",
    "plt.hist(denoise.ravel(), bins=100);\n",
    "plt.grid()\n",
    "\n",
    "plt.subplot(325)\n",
    "plt.imshow(denoise_fast, interpolation='bilinear')\n",
    "plt.axis('off')\n",
    "plt.colorbar()\n",
    "plt.title('non-local means\\n(2)')\n",
    "\n",
    "plt.subplot(326)\n",
    "plt.hist(denoise_fast.ravel(), bins=100);\n",
    "plt.grid()\n",
    "\n",
    "plt.show()"
   ]
  },
  {
   "cell_type": "code",
   "execution_count": null,
   "metadata": {},
   "outputs": [],
   "source": [
    "# from scipy.interpolate import interpn"
   ]
  },
  {
   "cell_type": "code",
   "execution_count": null,
   "metadata": {},
   "outputs": [],
   "source": [
    "def reshape_volume(volume, reshape):\n",
    "    res = np.zeros([s//reshape for s in volume.shape], dtype='float32')\n",
    "    xs,ys,zs = [s*reshape for s in res.shape]\n",
    "    for x,y,z in np.ndindex(reshape, reshape, reshape):\n",
    "        res += volume[x:xs:reshape, y:ys:reshape, z:zs:reshape]\n",
    "    return res/reshape**3"
   ]
  },
  {
   "cell_type": "code",
   "execution_count": null,
   "metadata": {},
   "outputs": [],
   "source": [
    "def save_amira(in_array, out_path, reshape=3):\n",
    "    data_path = out_path\n",
    "    with open(os.path.join(data_path, 'amira.raw'), 'wb') as amira_file:\n",
    "        reshaped_vol = reshape_volume(in_array, reshape)\n",
    "        reshaped_vol.tofile(amira_file)\n",
    "        file_shape = reshaped_vol.shape\n",
    "        with open(os.path.join(data_path, 'tomo.hx'), 'w') as af:\n",
    "                af.write('# Amira Script\\n')\n",
    "                af.write('remove -all\\n')\n",
    "                af.write(r'[ load -raw ${SCRIPTDIR}/amira.raw little xfastest float 1 '+\n",
    "                         str(file_shape[1])+' '+str(file_shape[2])+' '+str(file_shape[0])+\n",
    "                         ' 0 '+str(file_shape[1]-1)+' 0 '+str(file_shape[2]-1)+' 0 '+str(file_shape[0]-1)+\n",
    "                         ' ] setLabel tomo.raw\\n')\n"
   ]
  },
  {
   "cell_type": "code",
   "execution_count": null,
   "metadata": {},
   "outputs": [],
   "source": [
    "save_amira(rec_vol_filtered, tmp_dir)"
   ]
  },
  {
   "cell_type": "code",
   "execution_count": null,
   "metadata": {},
   "outputs": [],
   "source": [
    "with h5py.File(os.path.join(tmp_dir, 'tomo_rec.h5'), 'w') as h5f:\n",
    "    h5f.create_dataset('Reconstruction', data=rec_vol_filtered, chunks=True,\n",
    "                            compression='gzip', compression_opts=1)"
   ]
  },
  {
   "cell_type": "code",
   "execution_count": null,
   "metadata": {},
   "outputs": [],
   "source": [
    "plt.imshow(reshape_volume(rec_vol_filtered,10)[100])"
   ]
  },
  {
   "cell_type": "code",
   "execution_count": null,
   "metadata": {},
   "outputs": [],
   "source": [
    "import ipyvolume as ipv"
   ]
  },
  {
   "cell_type": "code",
   "execution_count": null,
   "metadata": {
    "scrolled": false
   },
   "outputs": [],
   "source": [
    "ipv.figure()\n",
    "ipv.volshow(reshape_volume(rec_vol_filtered,10),\n",
    "            max_shape=1024,\n",
    "            extent=[[0, rec_vol_filtered.shape[2]*9e-3],\n",
    "                   [0, rec_vol_filtered.shape[1]*9e-3],\n",
    "                   [0, rec_vol_filtered.shape[0]*9e-3]])\n",
    "# ipv.xlim(0, rec_vol_filtered.shape[2]*9e-3)\n",
    "ipv.xlabel('mm')\n",
    "# ipv.ylim(0, rec_vol_filtered.shape[1]*9e-3)\n",
    "ipv.ylabel('mm')\n",
    "# ipv.zlim(0, rec_vol_filtered.shape[0]*9e-3)\n",
    "ipv.zlabel('mm')\n",
    "ipv.show()"
   ]
  },
  {
   "cell_type": "code",
   "execution_count": null,
   "metadata": {},
   "outputs": [],
   "source": [
    "ipv.save(os.path.join(tmp_dir,'tomo.html'))"
   ]
  },
  {
   "cell_type": "code",
   "execution_count": null,
   "metadata": {},
   "outputs": [],
   "source": [
    "storage_dir = '/storage'"
   ]
  },
  {
   "cell_type": "code",
   "execution_count": null,
   "metadata": {},
   "outputs": [],
   "source": [
    "files_to_remove =  ['rec_filtered.tmp',\n",
    "                    'sinogram_fixed.tmp', 'uniq_angles.tmp']\n",
    "for fr in files_to_remove:\n",
    "    try:\n",
    "        os.remove(os.path.join(tmp_dir,fr))\n",
    "    except:\n",
    "        pass\n",
    "    try:\n",
    "        os.remove(os.path.join(tmp_dir,fr+'.size'))\n",
    "    except:\n",
    "        pass\n"
   ]
  },
  {
   "cell_type": "code",
   "execution_count": null,
   "metadata": {},
   "outputs": [],
   "source": [
    "tomotools.mkdir_p(os.path.join(storage_dir, experiment_id))"
   ]
  },
  {
   "cell_type": "code",
   "execution_count": null,
   "metadata": {},
   "outputs": [],
   "source": [
    "!cp 'tomo.ini'  {os.path.join(storage_dir, experiment_id)}"
   ]
  },
  {
   "cell_type": "code",
   "execution_count": null,
   "metadata": {},
   "outputs": [],
   "source": [
    "!cp -r {tmp_dir} {storage_dir}"
   ]
  },
  {
   "cell_type": "code",
   "execution_count": null,
   "metadata": {},
   "outputs": [],
   "source": [
    "!rm -rf {tmp_dir}"
   ]
  },
  {
   "cell_type": "code",
   "execution_count": null,
   "metadata": {},
   "outputs": [],
   "source": [
    "!mv {os.path.join(data_dir, experiment_id+'.h5')} {storage_dir}"
   ]
  },
  {
   "cell_type": "code",
   "execution_count": null,
   "metadata": {},
   "outputs": [],
   "source": []
  }
 ],
 "metadata": {
  "anaconda-cloud": {},
  "kernelspec": {
   "display_name": "Python 3",
   "language": "python",
   "name": "python3"
  },
  "language_info": {
   "codemirror_mode": {
    "name": "ipython",
    "version": 3
   },
   "file_extension": ".py",
   "mimetype": "text/x-python",
   "name": "python",
   "nbconvert_exporter": "python",
   "pygments_lexer": "ipython3",
   "version": "3.6.6"
  },
  "widgets": {
   "state": {
    "024e7ee72bda4d7d8fc579678bb7aa47": {
     "views": [
      {
       "cell_index": 7
      }
     ]
    },
    "3ca1d18f62ac4971bd372c8eb63dd777": {
     "views": [
      {
       "cell_index": 7
      }
     ]
    },
    "4935c1050ad043a2b08a41cd95fddd70": {
     "views": [
      {
       "cell_index": 27
      }
     ]
    },
    "64f990374a504773b714bf77b8f89cf9": {
     "views": [
      {
       "cell_index": 49
      }
     ]
    },
    "64fdfaab7ce646d386d585111e1f67c4": {
     "views": [
      {
       "cell_index": 7
      }
     ]
    },
    "6873cf27b0c345158e17f6e64eb85f9f": {
     "views": [
      {
       "cell_index": 7
      }
     ]
    },
    "68dbb3a428ba48a287dd731725f9e3e4": {
     "views": [
      {
       "cell_index": 7
      }
     ]
    },
    "9492ef2190e541049b54df491c1892f1": {
     "views": [
      {
       "cell_index": 7
      }
     ]
    },
    "c4d6ab80c2204b22a09811f3cfa49f02": {
     "views": [
      {
       "cell_index": 7
      }
     ]
    },
    "e2ec830883244b4185ecb629719a23c5": {
     "views": [
      {
       "cell_index": 7
      }
     ]
    }
   },
   "version": "1.2.0"
  }
 },
 "nbformat": 4,
 "nbformat_minor": 1
}
