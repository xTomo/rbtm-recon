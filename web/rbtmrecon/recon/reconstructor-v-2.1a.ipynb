{
 "cells": [
  {
   "cell_type": "markdown",
   "metadata": {},
   "source": [
    "# Changelog:\n",
    "\n",
    "* 2.1а (2020.03.18)\n",
    " - Add local files loading\n",
    " - Improving poriosity support\n",
    " - ENH: 180 deg search\n",
    "* 2.0d (2019.04.17-2019.05.06)\n",
    " - Adding dask support\n",
    " - Many code refactorings for semiautomatic runs\n",
    " - Allow manual borders selections\n",
    "* 2.0.b1 (2019.04.03)\n",
    " - bug fixing\n",
    " - try remove bad frames\n",
    "* 1.6.2 (2019.02.11)\n",
    " - fixing object detection\n",
    "* 1.6.1 (2018.11.19)\n",
    " - exdend borbers range (mean to percentile) \n",
    "* 1.6 (2018.11.08)\n",
    " - change algorithm of object detection with gaussian fitting\n",
    " - add y-clipping to remove sample holder\n",
    " - change algorithm of axis searching\n",
    " - change hdf5 compression to lzf\n",
    " - changing 3d visualisation\n",
    " - replace log_process to tqdm\n",
    "* 1.5 (2018.09.11)\n",
    " - saving full tomography volume\n",
    " - deleting temporary files as soon as possible\n",
    " - change thresshold in object detection (1/6 -> 1/5) \n",
    "* 1.4 (2018.08.23)\n",
    " - Fix: correct resized volume serialization (smooth instead cherry picking)\n",
    " - New: 3D visualisation\n",
    " - Fix: sinogram shifting aftee rotation axis fix\n",
    " - Update: Searching rotation axis\n",
    "* 1.3 (2018.07.03)\n",
    " - Update graphics\n",
    " - Update axis search algorithms\n",
    "* 1.2 (2018.06.04)\n",
    " - Change threshold\n",
    "* 1.1 (2018.03.14) \n",
    " - Add NLM filtering\n",
    "* 1.0 (2017.02.01) \n",
    " - First automation version."
   ]
  },
  {
   "cell_type": "code",
   "execution_count": null,
   "metadata": {},
   "outputs": [],
   "source": [
    "# manual mode\n",
    "#%matplotlib notebook\n",
    "\n",
    "# automatic mode\n",
    "%matplotlib inline"
   ]
  },
  {
   "cell_type": "code",
   "execution_count": null,
   "metadata": {},
   "outputs": [],
   "source": [
    "import logging\n",
    "\n",
    "logger = logging.getLogger()\n",
    "logger.setLevel(logging.INFO)\n",
    "import os\n",
    "import h5py\n",
    "\n",
    "import pylab as plt\n",
    "import numpy as np\n",
    "import dask.array as da\n",
    "\n",
    "import numexpr as ne\n",
    "import cv2\n",
    "import time\n",
    "import astra\n",
    "\n",
    "import configparser\n",
    "from skimage.restoration import denoise_nl_means, estimate_sigma\n",
    "from skimage.transform import resize\n",
    "import scipy.optimize\n",
    "import scipy.signal\n",
    "from ipywidgets import interact, interactive, fixed, interact_manual\n",
    "import ipywidgets as widgets\n",
    "\n",
    "from tqdm.notebook import tqdm\n",
    "\n",
    "from glob import glob\n",
    "import tomotools2 as tomotools"
   ]
  },
  {
   "cell_type": "code",
   "execution_count": null,
   "metadata": {},
   "outputs": [],
   "source": [
    "# # settings for docker\n",
    "\n",
    "config = configparser.ConfigParser()\n",
    "config.read('tomo.ini')\n",
    "experiment_id = config['SAMPLE']['_id']\n",
    "data_dir = '/fast/'\n",
    "storage_dir = '/storage/'\n",
    "exp_src_dir = '/exp_src'\n",
    "STORAGE_SERVER = \"http://rbtmstorage_server_1:5006/\""
   ]
  },
  {
   "cell_type": "code",
   "execution_count": null,
   "metadata": {},
   "outputs": [],
   "source": [
    "# STORAGE_SERVER = 'http://10.0.7.153:5006/'\n",
    "# storage_dir = '/diskmnt/a/makov/robotom/'\n",
    "# data_dir = '/diskmnt/fast/makov/robotom/'\n",
    "# exp_src_dir = '/home/robotom/rbtm_data/rbtm_storage/data/experiments'\n",
    "# experiment_id = '650c1997-370e-4937-b674-bd7429d29423'"
   ]
  },
  {
   "cell_type": "code",
   "execution_count": null,
   "metadata": {},
   "outputs": [],
   "source": [
    "tomo_info = tomotools.get_tomoobject_info(experiment_id, STORAGE_SERVER)\n",
    "tomo_info"
   ]
  },
  {
   "cell_type": "code",
   "execution_count": null,
   "metadata": {},
   "outputs": [],
   "source": [
    "def safe_median(data):\n",
    "    m_data = cv2.medianBlur(data, 3)\n",
    "    mask = np.abs(m_data - data) > 0.1 * np.abs(data)\n",
    "    res = data.copy()\n",
    "    res[mask] = m_data[mask]\n",
    "    return res"
   ]
  },
  {
   "cell_type": "code",
   "execution_count": null,
   "metadata": {},
   "outputs": [],
   "source": [
    "def load_tomo_data(data_file, tmp_dir):\n",
    "    empty_images, _ = tomotools.get_frame_group(data_file, 'empty', tmp_dir)\n",
    "    dark_images, _ = tomotools.get_frame_group(data_file, 'dark', tmp_dir)\n",
    "\n",
    "    empty_image = np.median(empty_images, axis=0)\n",
    "    dark_image = np.median(dark_images, axis=0)\n",
    "\n",
    "    empty_beam = empty_image - dark_image\n",
    "\n",
    "    # Загружаем кадры с даннымии\n",
    "    # TODO: добавить поддержку, когда много кадров на одном угле\n",
    "    data_images, data_angles = tomotools.get_frame_group(data_file, 'data', tmp_dir)\n",
    "\n",
    "    data_images_clear = da.from_array(data_images, chunks=(1, 1024, 1024)) - dark_image\n",
    "    return empty_beam, data_images_clear, data_angles"
   ]
  },
  {
   "cell_type": "markdown",
   "metadata": {},
   "source": [
    "# Loading experimental data"
   ]
  },
  {
   "cell_type": "code",
   "execution_count": null,
   "metadata": {},
   "outputs": [],
   "source": [
    "data_file = tomotools.get_experiment_hdf5(experiment_id, data_dir,\n",
    "                                          os.path.join(exp_src_dir, experiment_id, 'before_processing'),\n",
    "                                          STORAGE_SERVER)\n",
    "\n",
    "tmp_dir = os.path.join(data_dir, experiment_id)\n",
    "tomotools.mkdir_p(tmp_dir)\n",
    "\n",
    "empty_beam, data_images, data_angles = load_tomo_data(data_file, tmp_dir)"
   ]
  },
  {
   "cell_type": "code",
   "execution_count": null,
   "metadata": {},
   "outputs": [],
   "source": [
    "def show_exp_data(empty_beam, data_images):\n",
    "    max_intensity = np.percentile(empty_beam[:], 90)\n",
    "    plt.figure(figsize=(8, 12))\n",
    "    plt.subplot(211)\n",
    "    plt.imshow(empty_beam.T, vmin=0, vmax=max_intensity, cmap=plt.cm.gray, interpolation='bilinear')\n",
    "    cbar = plt.colorbar()\n",
    "    cbar.set_label('Интенсивность, усл.ед.', rotation=90)\n",
    "    plt.title('Прямой пучок')\n",
    "    plt.xlabel('Номер канала детектора')\n",
    "    plt.ylabel('Номер канала детектора')\n",
    "\n",
    "    plt.subplot(212)\n",
    "    plt.imshow(data_images[0].T, vmin=0, vmax=max_intensity, cmap=plt.cm.gray, interpolation='bilinear')\n",
    "    cbar = plt.colorbar()\n",
    "    cbar.set_label('Интенсивность, усл.ед.', rotation=90)\n",
    "    plt.title('Изображение объекта')\n",
    "    plt.xlabel('Номер канала детектора')\n",
    "    plt.ylabel('Номер канала детектора')\n",
    "    plt.show()"
   ]
  },
  {
   "cell_type": "code",
   "execution_count": null,
   "metadata": {},
   "outputs": [],
   "source": [
    "show_exp_data(empty_beam, data_images)"
   ]
  },
  {
   "cell_type": "code",
   "execution_count": null,
   "metadata": {},
   "outputs": [],
   "source": [
    "x_min, x_max, y_min, y_max = 800, 2000, 1000, 1500"
   ]
  },
  {
   "cell_type": "code",
   "execution_count": null,
   "metadata": {
    "lines_to_next_cell": 2
   },
   "outputs": [],
   "source": [
    "def show_frames_with_border(image_id, x_min, x_max, y_min, y_max):\n",
    "    angles_sorted_ind = np.argsort(data_angles)\n",
    "    t_image = data_images[angles_sorted_ind[image_id]].T\n",
    "    plt.figure(figsize=(15,10))\n",
    "    plt.subplot(121)\n",
    "    plt.imshow(t_image, cmap=plt.cm.gray)\n",
    "    plt.axis('equal')\n",
    "    plt.hlines([y_min, y_max], x_min, x_max, 'r')\n",
    "    plt.vlines([x_min, x_max], y_min, y_max, 'g')\n",
    "    plt.xlabel('X')\n",
    "    plt.ylabel('Y')\n",
    "    plt.subplot(122)\n",
    "    plt.imshow(t_image[y_min:y_max, x_min:x_max], cmap=plt.cm.gray)\n",
    "    plt.show()\n",
    "    print(\"x_min, x_max, y_min, y_max = {}, {}, {}, {}\".format(x_min, x_max, y_min, y_max))\n",
    "\n",
    "\n",
    "ff = interact_manual(show_frames_with_border,\n",
    "                     image_id = widgets.IntSlider(min=0, max=len(data_angles), step=1, value=0),\n",
    "                     x_min = widgets.IntSlider(min=0, max=data_images.shape[1], step=1, value=x_min),\n",
    "                     x_max = widgets.IntSlider(min=0, max=data_images.shape[1], step=1, value=x_max),\n",
    "                     y_min = widgets.IntSlider(min=0, max=data_images.shape[2], step=1, value=y_min),\n",
    "                     y_max = widgets.IntSlider(min=0, max=data_images.shape[2], step=1, value=y_max)\n",
    "                              )\n",
    "# show_frames_with_border(data_images, 0, 700, 2000, 1100, 1500)"
   ]
  },
  {
   "cell_type": "code",
   "execution_count": null,
   "metadata": {},
   "outputs": [],
   "source": [
    "x_min = ff.widget.kwargs['x_min']\n",
    "x_max = ff.widget.kwargs['x_max']\n",
    "y_min = ff.widget.kwargs['y_min']\n",
    "y_max = ff.widget.kwargs['y_max']"
   ]
  },
  {
   "cell_type": "code",
   "execution_count": null,
   "metadata": {},
   "outputs": [],
   "source": [
    "data_images_crop, _ = tomotools.load_create_mm(os.path.join(tmp_dir, 'data_images_crop.tmp'),\n",
    "                                               shape=(len(data_angles),\n",
    "                                                      x_max-x_min,\n",
    "                                                      y_max-y_min),\n",
    "                                               dtype='float32')\n",
    "for i in range(len(data_angles)):\n",
    "    data_images_crop[i] = data_images[i, x_min:x_max, y_min:y_max]"
   ]
  },
  {
   "cell_type": "code",
   "execution_count": null,
   "metadata": {},
   "outputs": [],
   "source": [
    "empty_beam = empty_beam[x_min:x_max, y_min:y_max]"
   ]
  },
  {
   "cell_type": "code",
   "execution_count": null,
   "metadata": {},
   "outputs": [],
   "source": [
    "del data_images"
   ]
  },
  {
   "cell_type": "code",
   "execution_count": null,
   "metadata": {},
   "outputs": [],
   "source": [
    "# TODO: Profile this function\n",
    "def find_good_frames(data_images, data_angles):\n",
    "    intensity = data_images.mean(axis=-1).mean(axis=-1)\n",
    "\n",
    "    intensity_mask = (intensity < 1.2 * intensity.mean()) * (intensity > 0.8 * intensity.mean())  # dorp bad points\n",
    "    good_frames = np.arange(len(intensity))[intensity_mask]\n",
    "\n",
    "    intensity_t = intensity[good_frames]\n",
    "    data_angles_t = data_angles[good_frames]\n",
    "\n",
    "    plt.figure(figsize=(8, 5))\n",
    "    plt.plot(data_angles[np.argsort(data_angles)],\n",
    "             intensity[np.argsort(data_angles)],\n",
    "             label='Before filtering')\n",
    "\n",
    "    plt.hlines(np.median(intensity, axis=0), 0, np.max(data_angles), 'r', label='Reference value')\n",
    "\n",
    "    plt.plot(data_angles_t[np.argsort(data_angles_t)],\n",
    "             intensity_t[np.argsort(data_angles_t)],\n",
    "             'g', label='After filtering')\n",
    "\n",
    "    plt.xlabel('Angle')\n",
    "    plt.ylabel('Frame mean intensity')\n",
    "    plt.grid()\n",
    "    plt.legend(loc=0)\n",
    "    plt.show()\n",
    "    return good_frames\n",
    "\n",
    "\n",
    "good_frames = find_good_frames(data_images_crop, data_angles)"
   ]
  },
  {
   "cell_type": "markdown",
   "metadata": {},
   "source": [
    "# Remove bad frames"
   ]
  },
  {
   "cell_type": "code",
   "execution_count": null,
   "metadata": {},
   "outputs": [],
   "source": [
    "data_images_good, _ = tomotools.load_create_mm(os.path.join(tmp_dir, 'data_images_good.tmp'),\n",
    "                                               shape=(len(good_frames),\n",
    "                                                      data_images_crop.shape[1],\n",
    "                                                      data_images_crop.shape[2]),\n",
    "                                               dtype='float32')\n",
    "# TODO: Profile this code. In case if no bad frames, just skip it\n",
    "# data_images_good[range(len(good_frames))] = data_images[good_frames]\n",
    "for i in tqdm(range(len(good_frames))):\n",
    "    data_images_good[i] = data_images_crop[good_frames[i]]\n",
    "\n",
    "data_angles = data_angles[good_frames]"
   ]
  },
  {
   "cell_type": "markdown",
   "metadata": {},
   "source": [
    "# Searching object borders"
   ]
  },
  {
   "cell_type": "code",
   "execution_count": null,
   "metadata": {},
   "outputs": [],
   "source": [
    "# data_mean = np.mean(data_images_good, axis=0)\n",
    "# data_mean = cv2.medianBlur(data_mean, 3)\n",
    "# data_mean[data_mean <= 1] = 1"
   ]
  },
  {
   "cell_type": "code",
   "execution_count": null,
   "metadata": {},
   "outputs": [],
   "source": [
    "# def gauss(x, *p):\n",
    "#     A, mu, sigma, C = p\n",
    "#     return C + A * np.exp(-(x - mu) ** 2 / (2. * sigma ** 2))\n",
    "\n",
    "\n",
    "# def get_gauss_fit(thr):\n",
    "#     k = np.percentile(empty_beam / data_mean, thr, axis=-1)\n",
    "#     p0 = [1., len(k) / 2., len(k) / 4., 0.]\n",
    "\n",
    "#     coeff, var_matrix = scipy.optimize.curve_fit(gauss, range(len(k)), k, p0=p0)\n",
    "\n",
    "#     A, mu, sigma, C = coeff\n",
    "#     sigma = np.abs(sigma)\n",
    "#     return A, mu, sigma, C, k\n",
    "\n",
    "\n",
    "# def get_x_limits():\n",
    "#     A, mu, sigma, C, k = get_gauss_fit(80)\n",
    "\n",
    "#     # res = [get_gauss_fit(k) for k in range(0,100,10)]\n",
    "#     x_min = np.max([200, mu - 2 * sigma - 400]).astype('int32')\n",
    "#     x_max = np.min([len(k) - 200, mu + 2 * sigma + 400]).astype('int32')\n",
    "\n",
    "#     plt.figure(figsize=(5, 5))\n",
    "#     plt.plot(k)\n",
    "#     plt.plot(gauss(np.arange(len(k)), A, mu, sigma, C))\n",
    "#     plt.vlines([x_min, x_max], k.min(), k.max())\n",
    "#     plt.grid()\n",
    "#     return x_min, x_max\n",
    "\n",
    "\n",
    "# x_min, x_max = get_x_limits()"
   ]
  },
  {
   "cell_type": "code",
   "execution_count": null,
   "metadata": {},
   "outputs": [],
   "source": [
    "# def get_y_limits():\n",
    "#     k = np.percentile((empty_beam / data_mean)[x_min:x_max, :], 90, axis=0)\n",
    "\n",
    "#     k = scipy.signal.medfilt(k, 5)\n",
    "\n",
    "#     thr_max = np.percentile(k, 5)\n",
    "#     thr_min = np.percentile(k, 5)\n",
    "#     y_max = np.max(np.argwhere(k > thr_max)) + 100\n",
    "#     y_min = np.min(np.argwhere(k > thr_min)) - 100\n",
    "#     y_min = np.max([0, y_min])\n",
    "#     y_max = np.min([len(k), y_max])\n",
    "\n",
    "#     plt.figure(figsize=(5, 5))\n",
    "#     plt.plot(k)\n",
    "#     plt.hlines([thr_min, thr_max], 0, len(k))\n",
    "#     plt.vlines([y_min, y_max], min(k), max(k))\n",
    "#     plt.grid()\n",
    "\n",
    "#     return y_min, y_max\n",
    "\n",
    "\n",
    "# y_min, y_max = get_y_limits()"
   ]
  },
  {
   "cell_type": "code",
   "execution_count": null,
   "metadata": {},
   "outputs": [],
   "source": [
    "# print(x_min, x_max, y_min, y_max)\n",
    "# print(x_max - x_min, y_max - y_min)"
   ]
  },
  {
   "cell_type": "markdown",
   "metadata": {},
   "source": [
    "# ЗДЕСЬ РУКАМИ ВЫСТАВЛЯТЬ ГРАНИЦЫ"
   ]
  },
  {
   "cell_type": "code",
   "execution_count": null,
   "metadata": {},
   "outputs": [],
   "source": [
    "# plt.gray()\n",
    "# plt.figure(figsize=(8, 8))\n",
    "# ax = plt.imshow(data_mean.T, vmin=0, interpolation='bilinear')\n",
    "# plt.axis('tight')\n",
    "# plt.hlines([y_min, y_max], x_min, x_max, 'r')\n",
    "# plt.vlines([x_min, x_max], y_min, y_max, 'g')\n",
    "# plt.xlabel('X')\n",
    "# plt.ylabel('Y')\n",
    "# plt.show()"
   ]
  },
  {
   "cell_type": "code",
   "execution_count": null,
   "metadata": {},
   "outputs": [],
   "source": [
    "# xmin, xmax = np.sort(ax.axes.get_xlim())\n",
    "# ymin, ymax = np.sort(ax.axes.get_ylim())\n",
    "\n",
    "# xmin = np.max([0, int(np.floor(xmin))])\n",
    "# xmax = int(np.ceil(xmax))\n",
    "# ymin = np.max([0, int(np.floor(ymin))])\n",
    "# ymax = int(np.ceil(ymax))\n",
    "\n",
    "# xmin = x_min if xmin == 0 else xmin\n",
    "# xmax = x_max if xmax == data_mean.shape[0] else xmax\n",
    "# ymin = y_min if ymin == 0 else ymin\n",
    "# ymax = y_max if ymax == data_mean.shape[1] else ymax\n",
    "\n",
    "# # ISERT BORDERS MANUALY HERE\n",
    "\n",
    "# # xmin =\n",
    "# # xmax =\n",
    "# # ymin =\n",
    "# # ymax =\n",
    "\n",
    "\n",
    "# print(xmin, xmax, ymin, ymax)\n",
    "# print(xmax - xmin, ymax - ymin)\n",
    "\n",
    "\n",
    "# # TODO: add save cut parameters to config file"
   ]
  },
  {
   "cell_type": "code",
   "execution_count": null,
   "metadata": {},
   "outputs": [],
   "source": [
    "# def cut_data_images(data_images, empty_beam, data_angles, xmin, xmax, ymin, ymax):\n",
    "#     data_images_masked, _ = tomotools.load_create_mm(os.path.join(tmp_dir, 'data_images_masked.tmp'),\n",
    "#                                                      shape=(data_angles.shape[0],\n",
    "#                                                             xmax - xmin,\n",
    "#                                                             ymax - ymin), dtype='float32',\n",
    "#                                                      force_create=True)\n",
    "\n",
    "#     empty_masked, _ = tomotools.load_create_mm(os.path.join(tmp_dir, 'empty_images_masked.tmp'),\n",
    "#                                                shape=(xmax - xmin,\n",
    "#                                                       ymax - ymin), dtype='float32',\n",
    "#                                                force_create=True)\n",
    "\n",
    "#     empty_masked[:] = empty_beam[xmin:xmax, ymin:ymax]\n",
    "\n",
    "#     plt.figure(figsize=(7, 7))\n",
    "#     plt.imshow(data_images_good[0, xmin:xmax, ymin:ymax].T,\n",
    "#                vmin=0, interpolation='bilinear',\n",
    "#                cmap=plt.cm.gray)\n",
    "#     cbar = plt.colorbar()\n",
    "#     cbar.set_label('Пропускание, усл.ед.', rotation=90)\n",
    "#     plt.title('Отнормированное изображение')\n",
    "#     plt.show()\n",
    "\n",
    "#     for di in tqdm_notebook(range(data_images_masked.shape[0])):\n",
    "#         data_images_masked[di] = data_images_good[di, xmin:xmax, ymin:ymax]\n",
    "\n",
    "#     return data_images_masked, empty_masked\n",
    "\n",
    "\n",
    "# data_images_masked, empty_masked = cut_data_images(\n",
    "#     data_images, empty_beam, data_angles, xmin, xmax, ymin, ymax)"
   ]
  },
  {
   "cell_type": "code",
   "execution_count": null,
   "metadata": {},
   "outputs": [],
   "source": [
    "# plt.figure(figsize=(8, 8))\n",
    "# plt.imshow(safe_median(empty_masked))\n",
    "# plt.colorbar()"
   ]
  },
  {
   "cell_type": "code",
   "execution_count": null,
   "metadata": {},
   "outputs": [],
   "source": [
    "def group_data(data_images, data_angles, mmap_file_dir):\n",
    "    uniq_angles, _ = tomotools.load_create_mm(\n",
    "        os.path.join(mmap_file_dir, 'uniq_angles.tmp'),\n",
    "        shape=(len(list(set(data_angles))),),\n",
    "        dtype='float32', force_create=True)\n",
    "    uniq_angles[:] = list(set(data_angles))\n",
    "\n",
    "    uniq_data_images, _ = tomotools.load_create_mm(\n",
    "        os.path.join(mmap_file_dir, 'uniq_data_images.tmp'),\n",
    "        shape=(len(uniq_angles), data_images.shape[1], data_images.shape[2]),\n",
    "        dtype='float32', force_create=True)\n",
    "\n",
    "    for ua_id, ua in tqdm(list(enumerate(uniq_angles))):\n",
    "        indexes = np.argwhere(data_angles == uniq_angles[ua_id])\n",
    "        if len(indexes) > 1:\n",
    "            tmp_images = data_images[indexes]\n",
    "            tmp_images = np.squeeze(tmp_images)\n",
    "            mean_image = np.mean(tmp_images, axis=0)\n",
    "            uniq_data_images[ua_id] = mean_image\n",
    "        else:\n",
    "            uniq_data_images[ua_id] = data_images[indexes]\n",
    "    return uniq_data_images, uniq_angles\n",
    "\n",
    "\n",
    "uniq_data_images, uniq_angles = group_data(data_images_good, data_angles, tmp_dir)"
   ]
  },
  {
   "cell_type": "code",
   "execution_count": null,
   "metadata": {},
   "outputs": [],
   "source": [
    "# normalize data frames and calculate sinograms\n",
    "empty_masked = safe_median(empty_beam)\n",
    "for di in tqdm(range(uniq_data_images.shape[0])):\n",
    "    t = uniq_data_images[di]\n",
    "    t = t / empty_beam\n",
    "    t[t < 1e-8] = 1e-8\n",
    "    t[t > 1] = 1\n",
    "    uniq_data_images[di] = safe_median(t)\n",
    "\n",
    "# del empty_masked"
   ]
  },
  {
   "cell_type": "code",
   "execution_count": null,
   "metadata": {},
   "outputs": [],
   "source": [
    "sinogram, _ = tomotools.load_create_mm(os.path.join(tmp_dir, 'sinogram.tmp'), shape=uniq_data_images.shape,\n",
    "                                       dtype='float32')\n",
    "ne.evaluate('-log(uniq_data_images)', out=sinogram);"
   ]
  },
  {
   "cell_type": "code",
   "execution_count": null,
   "metadata": {},
   "outputs": [],
   "source": [
    "plt.gray()\n",
    "plt.figure(figsize=(7, 5))\n",
    "s = sinogram[np.argsort(uniq_angles), :, int(sinogram.shape[-1] // 2)]\n",
    "plt.imshow(s, interpolation='bilinear')\n",
    "plt.axis('tight')\n",
    "cbar = plt.colorbar()\n",
    "cbar.set_label('Пропускание, усл.ед.', rotation=90)\n",
    "plt.title('Синограмма без коррекции')"
   ]
  },
  {
   "cell_type": "code",
   "execution_count": null,
   "metadata": {},
   "outputs": [],
   "source": [
    "# # build frames for video\n",
    "# images_dir = os.path.join(tmp_dir,'images')\n",
    "# tomotools.mkdir_p(images_dir)\n",
    "# im_max=np.max(sinogram)\n",
    "# im_min=np.min(sinogram)\n",
    "# print(im_min, im_max)\n",
    "# for ia, a in tomotools.log_progress(list(enumerate(np.argsort(uniq_angles)))):\n",
    "# #     print('{:34}'.format(ia))\n",
    "#     plt.imsave(os.path.join(images_dir,'prj_{:03}.png'.format(ia)),\n",
    "#                np.rot90(sinogram[a],3), vmin=im_min, vmax=im_max,\n",
    "#                cmap=plt.cm.gray_r)\n",
    "\n",
    "# !cd {images_dir} && avconv -r 10 -i \"prj_%03d.png\" -b:v 1000k prj.avi\n",
    "# !cd {images_dir} && rm prj.mp4"
   ]
  },
  {
   "cell_type": "code",
   "execution_count": null,
   "metadata": {},
   "outputs": [],
   "source": [
    "import scipy.ndimage\n",
    "\n",
    "\n",
    "def my_rc(sino0, level):\n",
    "    def get_my_b(level):\n",
    "        t = np.mean(sino0, axis=0)\n",
    "        gt = scipy.ndimage.filters.gaussian_filter1d(t, level / 2.)\n",
    "        return gt - t\n",
    "\n",
    "    def get_my_a(level):\n",
    "        my_b = get_my_b(level)\n",
    "        return np.mean(my_b) / my_b.shape[0]\n",
    "\n",
    "    my_a = get_my_a(level)\n",
    "    my_b = get_my_b(level)\n",
    "\n",
    "    res = sino0.copy()\n",
    "    if not level == 0:\n",
    "        res += sino0 * my_a + my_b\n",
    "\n",
    "    return res"
   ]
  },
  {
   "cell_type": "code",
   "execution_count": null,
   "metadata": {},
   "outputs": [],
   "source": [
    "rc_level = 10"
   ]
  },
  {
   "cell_type": "code",
   "execution_count": null,
   "metadata": {},
   "outputs": [],
   "source": [
    "tmp_sinogram = sinogram[np.argsort(uniq_angles), :, int(sinogram.shape[-1] // 2)]\n",
    "plt.figure(figsize=(8, 8))\n",
    "plt.imshow(my_rc(tmp_sinogram, rc_level), cmap=plt.cm.viridis, interpolation='nearest')\n",
    "plt.axis('tight')\n",
    "plt.colorbar(orientation='horizontal')\n",
    "\n",
    "# TODO: remove rings"
   ]
  },
  {
   "cell_type": "code",
   "execution_count": null,
   "metadata": {},
   "outputs": [],
   "source": [
    "for s in tqdm(range(sinogram.shape[1])):\n",
    "    sinogram[:, s, :] = my_rc(sinogram[:, s, :], rc_level)"
   ]
  },
  {
   "cell_type": "code",
   "execution_count": null,
   "metadata": {},
   "outputs": [],
   "source": [
    "np.isnan(sinogram).sum()"
   ]
  },
  {
   "cell_type": "code",
   "execution_count": null,
   "metadata": {},
   "outputs": [],
   "source": [
    "tmp_sinogram = sinogram[np.argsort(uniq_angles), :, int(sinogram.shape[-1] // 2)]\n",
    "\n",
    "plt.figure(figsize=(8, 8))\n",
    "plt.imshow(tmp_sinogram, cmap=plt.cm.viridis, interpolation='nearest')\n",
    "plt.axis('tight')\n",
    "plt.colorbar(orientation='horizontal')"
   ]
  },
  {
   "cell_type": "code",
   "execution_count": null,
   "metadata": {},
   "outputs": [],
   "source": [
    "from skimage.metrics import normalized_root_mse\n",
    "from scipy.ndimage.filters import gaussian_filter\n",
    "from scipy.optimize import minimize\n",
    "import cv2\n",
    "\n",
    "\n",
    "def cv_rotate(x, angle):\n",
    "    \"\"\"\n",
    "    Rotate square array using OpenCV2 around center of the array\n",
    "    :param x: 2d numpy array\n",
    "    :param angle: angle in degrees\n",
    "    :return: rotated array\n",
    "    \"\"\"\n",
    "    x_center = tuple(\n",
    "        np.array((x.shape[1], x.shape[0]), dtype='float32') / 2.0 - 0.5)\n",
    "    rot_mat = cv2.getRotationMatrix2D(x_center, angle, 1.0)\n",
    "    xro = cv2.warpAffine(\n",
    "        x, rot_mat, (x.shape[1], x.shape[0]), flags=cv2.INTER_LINEAR)\n",
    "    return xro\n",
    "\n",
    "\n",
    "def smooth(x):\n",
    "    return x - gaussian_filter(x, 50) + gaussian_filter(x, 10)\n",
    "\n",
    "\n",
    "def find_axis_posiotion(image_0, image_180):\n",
    "    def corr(x):\n",
    "        alfa = x[0]\n",
    "        shift_x = int(x[1])\n",
    "        if shift_x >= 0:\n",
    "            t_180 = image_180[:, shift_x:]\n",
    "            t_0 = image_0[:, shift_x:]\n",
    "        else:\n",
    "            t_180 = image_180[:, :shift_x]\n",
    "            t_0 = image_0[:, :shift_x]\n",
    "\n",
    "        tt_180 = np.fliplr(cv_rotate(t_180, alfa))\n",
    "        tt_180 = cv2.medianBlur(tt_180, 3)  # *t_mask\n",
    "        tt_0 = cv_rotate(t_0, alfa)\n",
    "        tt_0 = cv2.medianBlur(tt_0, 3)  # *t_mask\n",
    "\n",
    "        res = normalized_root_mse(tt_0, tt_180)\n",
    "\n",
    "        return res\n",
    "\n",
    "    s180 = image_180.sum(axis=0)\n",
    "    r180 = np.flipud(np.arange(len(s180)))\n",
    "    p180 = (s180 * r180).sum() / s180.sum()\n",
    "\n",
    "    s0 = image_0.sum(axis=0)\n",
    "    r0 = np.arange(len(s0))\n",
    "    p0 = (s0 * r0).sum() / s0.sum()\n",
    "\n",
    "    x0 = [1., 0.5 * (p0 - p180)]\n",
    "\n",
    "    left = x0[1] - 200\n",
    "    right = x0[1] + 200\n",
    "    qq = [corr([0, q]) for q in np.arange(left, right)]\n",
    "    min_pos = left + np.argmin(qq)\n",
    "    if min_pos == left or min_pos == right:\n",
    "        position_found = False\n",
    "    else:\n",
    "        position_found = True\n",
    "\n",
    "    plt.figure()\n",
    "    plt.plot(np.arange(left, right), qq)\n",
    "    plt.grid()\n",
    "    plt.show()\n",
    "\n",
    "    while not position_found:\n",
    "        if min_pos == left:\n",
    "            right = left\n",
    "            left = right - 200\n",
    "        elif min_pos == right:\n",
    "            left = right\n",
    "            right = left + 200\n",
    "\n",
    "        qq = [corr([0, q]) for q in np.arange(left, right)]\n",
    "        min_pos = left + np.argmin(qq)\n",
    "        if min_pos == left or min_pos == right:\n",
    "            position_found = False\n",
    "        else:\n",
    "            position_found = True\n",
    "\n",
    "        plt.figure()\n",
    "        plt.plot(np.arange(left, right), qq)\n",
    "        plt.grid()\n",
    "        plt.show()\n",
    "\n",
    "    shift_0 = min_pos\n",
    "    x0 = [1., shift_0],\n",
    "    res = minimize(corr, x0, method='Powell')\n",
    "    return res"
   ]
  },
  {
   "cell_type": "code",
   "execution_count": null,
   "metadata": {},
   "outputs": [],
   "source": [
    "# seraching opposite frames (0 and 180 deg)\n",
    "def get_angles_at_180_deg(uniq_angles):\n",
    "    array_0 = np.asarray(uniq_angles) % 360\n",
    "    cross_array = np.zeros((len(array_0), len(array_0)))\n",
    "    for i in range(1, len(array_0)):\n",
    "        cross_array[i] = np.roll(array_0, i)\n",
    "\n",
    "    pos = np.argmin(np.abs(cross_array + 180 - array_0) % 360)\n",
    "    print(pos)\n",
    "    position_180 = pos % len(array_0)\n",
    "    position_0 = (pos - position_180) // len(array_0)\n",
    "    print(position_0, position_180)\n",
    "    return position_0, position_180\n",
    "\n",
    "\n",
    "position_0, position_180 = get_angles_at_180_deg(uniq_angles)\n",
    "\n",
    "posiotion_180_sorted = np.argwhere(np.isclose(position_180, np.argsort(uniq_angles)))[0][0]\n",
    "print(posiotion_180_sorted)\n",
    "posiotions_to_check = np.argsort(uniq_angles)[\n",
    "                      posiotion_180_sorted - 3:np.min(\n",
    "                          [posiotion_180_sorted + 5, len(uniq_angles) - 1])]  # TODO: check ranges\n",
    "print(uniq_angles[posiotions_to_check])"
   ]
  },
  {
   "cell_type": "code",
   "execution_count": null,
   "metadata": {},
   "outputs": [],
   "source": [
    "data_0_orig = np.rot90(sinogram[position_0]).copy()\n",
    "data_0 = cv2.medianBlur(data_0_orig, 3)\n",
    "data_0 = smooth(data_0)"
   ]
  },
  {
   "cell_type": "code",
   "execution_count": null,
   "metadata": {},
   "outputs": [],
   "source": [
    "plt.figure(figsize=(8, 8))\n",
    "plt.imshow(smooth(data_0_orig))\n",
    "plt.colorbar()"
   ]
  },
  {
   "cell_type": "code",
   "execution_count": null,
   "metadata": {
    "scrolled": false
   },
   "outputs": [],
   "source": [
    "opt_func_values = []\n",
    "for position_180 in posiotions_to_check:\n",
    "    print(uniq_angles[position_180])\n",
    "    data_0_orig = np.rot90(sinogram[position_0]).copy()\n",
    "    data_180_orig = np.rot90(sinogram[position_180]).copy()\n",
    "    data_0 = cv2.medianBlur(data_0_orig, 3)\n",
    "    data_180 = cv2.medianBlur(data_180_orig, 3)\n",
    "\n",
    "    data_0 = smooth(data_0)\n",
    "    data_180 = smooth(data_180)\n",
    "\n",
    "    res = find_axis_posiotion(data_0, data_180)\n",
    "    opt_func_values.append(res['fun'])\n",
    "    print(res)\n",
    "    # alfa, shift_x, shift_y = res.x[0]/10, int(res.x[1]), int(res.x[2])//10\n",
    "\n",
    "    alfa, shift_x, shift_y = res.x[0], int(np.floor(res.x[1])), 0\n",
    "\n",
    "    if shift_x >= 0:\n",
    "        t_180 = data_180_orig[:, shift_x:]\n",
    "        t_0 = data_0_orig[:, shift_x:]\n",
    "    else:\n",
    "        t_180 = data_180_orig[:, :shift_x]\n",
    "        t_0 = data_0_orig[:, :shift_x]\n",
    "\n",
    "    if shift_y > 0:\n",
    "        t_180 = t_180[shift_y:, :]\n",
    "        t_0 = t_0[:-shift_y, :]\n",
    "    elif shift_y < 0:\n",
    "        t_180 = t_180[:shift_y, :]\n",
    "        t_0 = t_0[-shift_y:, :]\n",
    "\n",
    "    tt_180 = np.fliplr(cv_rotate(t_180, alfa))\n",
    "    tt_0 = cv_rotate(t_0, alfa)\n",
    "\n",
    "    plt.figure(figsize=(7, 7))\n",
    "    plt.imshow(tt_180 - tt_0, cmap=plt.cm.viridis)\n",
    "    plt.title('a={}, sx={} sy={}'.format(alfa, shift_x, shift_y))\n",
    "    plt.colorbar()\n",
    "    plt.show()"
   ]
  },
  {
   "cell_type": "code",
   "execution_count": null,
   "metadata": {},
   "outputs": [],
   "source": [
    "plt.figure()\n",
    "plt.plot(uniq_angles[posiotions_to_check], opt_func_values)\n",
    "plt.grid()\n",
    "new_position_180 = posiotions_to_check[np.argmin(opt_func_values)]\n",
    "print(new_position_180)"
   ]
  },
  {
   "cell_type": "code",
   "execution_count": null,
   "metadata": {},
   "outputs": [],
   "source": [
    "uniq_angles_orig = uniq_angles.copy()\n",
    "uniq_angles *= 180. / uniq_angles[new_position_180]\n",
    "position_0, position_180 = get_angles_at_180_deg(uniq_angles)"
   ]
  },
  {
   "cell_type": "code",
   "execution_count": null,
   "metadata": {},
   "outputs": [],
   "source": [
    "print(uniq_angles[position_180])\n",
    "data_0_orig = np.rot90(sinogram[position_0]).copy()\n",
    "data_180_orig = np.rot90(sinogram[position_180]).copy()\n",
    "data_0 = cv2.medianBlur(data_0_orig, 3)\n",
    "data_180 = cv2.medianBlur(data_180_orig, 3)\n",
    "\n",
    "data_0 = smooth(data_0)\n",
    "data_180 = smooth(data_180)\n",
    "\n",
    "res = find_axis_posiotion(data_0, data_180)\n",
    "# opt_func_values.append(res['fun'])\n",
    "print(res)\n",
    "\n",
    "# TODO: FIX shift_y\n",
    "alfa, shift_x, shift_y = res.x[0], int(np.floor(res.x[1])), 0\n",
    "\n",
    "if shift_x >= 0:\n",
    "    t_180 = data_180_orig[:, shift_x:]\n",
    "    t_0 = data_0_orig[:, shift_x:]\n",
    "else:\n",
    "    t_180 = data_180_orig[:, :shift_x]\n",
    "    t_0 = data_0_orig[:, :shift_x]\n",
    "\n",
    "if shift_y > 0:\n",
    "    t_180 = t_180[shift_y:, :]\n",
    "    t_0 = t_0[:-shift_y, :]\n",
    "elif shift_y < 0:\n",
    "    t_180 = t_180[:shift_y, :]\n",
    "    t_0 = t_0[-shift_y:, :]\n",
    "\n",
    "tt_180 = np.fliplr(cv_rotate(t_180, alfa))\n",
    "tt_0 = cv_rotate(t_0, alfa)\n",
    "\n",
    "plt.figure(figsize=(8, 8))\n",
    "plt.imshow(tt_180 - tt_0, cmap=plt.cm.viridis)\n",
    "plt.title('a={}, sx={} sy={}'.format(alfa, shift_x, shift_y))\n",
    "plt.colorbar()\n",
    "plt.show()"
   ]
  },
  {
   "cell_type": "code",
   "execution_count": null,
   "metadata": {},
   "outputs": [],
   "source": [
    "plt.gray()\n",
    "plt.figure(figsize=(8, 8))\n",
    "im_max = np.max([np.max(data_0_orig), np.max(data_180_orig)])\n",
    "plt.subplot(221)\n",
    "plt.imshow(data_0_orig, vmin=0, vmax=im_max, cmap=plt.cm.gray_r)\n",
    "plt.axis('tight')\n",
    "plt.title('a')\n",
    "plt.xlabel('Каналы детектора')\n",
    "plt.ylabel('Каналы детектора')\n",
    "cbar = plt.colorbar()\n",
    "cbar.set_label('Поглощение, усл.ед.', rotation=90)\n",
    "\n",
    "plt.subplot(222)\n",
    "plt.imshow(data_180_orig, vmin=0, vmax=im_max, cmap=plt.cm.gray_r)\n",
    "plt.axis('tight')\n",
    "plt.title('б')\n",
    "plt.xlabel('Каналы детектора')\n",
    "plt.ylabel('Каналы детектора')\n",
    "cbar = plt.colorbar()\n",
    "cbar.set_label('Поглощение, усл.ед.', rotation=90)\n",
    "\n",
    "plt.subplot(223)\n",
    "plt.imshow(data_0_orig - np.fliplr(data_180_orig), vmin=-im_max / 2, vmax=im_max / 2, cmap=plt.cm.gray_r)\n",
    "plt.axis('tight')\n",
    "plt.title('в')\n",
    "plt.xlabel('Каналы детектора')\n",
    "plt.ylabel('Каналы детектора')\n",
    "cbar = plt.colorbar()\n",
    "cbar.set_label('Поглощение, усл.ед.', rotation=90)\n",
    "\n",
    "plt.subplot(224)\n",
    "plt.imshow(1.0 * (tt_180 - tt_0), vmin=-im_max / 2, vmax=im_max / 2, cmap=plt.cm.gray_r)\n",
    "plt.axis('tight')\n",
    "plt.title('г')\n",
    "plt.xlabel('Каналы детектора')\n",
    "plt.ylabel('Каналы детектора')\n",
    "cbar = plt.colorbar()\n",
    "cbar.set_label('Поглощение, усл.ед.', rotation=90)"
   ]
  },
  {
   "cell_type": "code",
   "execution_count": null,
   "metadata": {},
   "outputs": [],
   "source": [
    "# t = np.percentile(sinogram, 90, axis=1)\n",
    "# t1 = t[np.argsort(uniq_angles)]"
   ]
  },
  {
   "cell_type": "code",
   "execution_count": null,
   "metadata": {},
   "outputs": [],
   "source": [
    "plt.figure(figsize=(5, 5))\n",
    "plt.imshow(t[np.argsort(uniq_angles), :])\n",
    "plt.colorbar()\n",
    "plt.show()\n",
    "# TODO: Improve y_shift searching\n",
    "y_shift_array = np.sum(t > 0.05, axis=1)\n",
    "y_shift_array -= y_shift_array[0]\n",
    "\n",
    "plt.figure(figsize=(6, 6))\n",
    "plt.plot(y_shift_array[np.argsort(uniq_angles)], 'o')\n",
    "plt.grid()\n",
    "plt.show()"
   ]
  },
  {
   "cell_type": "code",
   "execution_count": null,
   "metadata": {},
   "outputs": [],
   "source": [
    "# flow = cv2.calcOpticalFlowPyrLK(data_0, data_180)"
   ]
  },
  {
   "cell_type": "code",
   "execution_count": null,
   "metadata": {},
   "outputs": [],
   "source": [
    "sinogram_fixed, _ = tomotools.load_create_mm(os.path.join(tmp_dir, 'sinogram_fixed.tmp'),\n",
    "                                             shape=(\n",
    "                                             sinogram.shape[0], sinogram.shape[1] + abs(shift_x), sinogram.shape[2]),\n",
    "                                             dtype='float32', force_create=True)\n",
    "\n",
    "# fix axis tlit\n",
    "for i in tqdm(range(sinogram.shape[0])):\n",
    "    t = sinogram[i].copy()\n",
    "\n",
    "    t_angle = uniq_angles[i]\n",
    "\n",
    "    #     if not shift_y ==0 :\n",
    "    #         delta_angle = t_angle - uniq_angles[position_0]+90\n",
    "    #         tmp_shift_y = int(np.sin(delta_angle/180.*np.pi)*shift_y)\n",
    "    #         t = np.roll(t, -tmp_shift_y, -1)\n",
    "    #         t[:,0:np.abs(shift_y)]=0\n",
    "    #         t[:,-np.abs(shift_y):]=0\n",
    "\n",
    "    t = cv_rotate(t, alfa)\n",
    "    # TODO: Fixit\n",
    "    shift_y = y_shift_array[i]\n",
    "\n",
    "    #     t = np.roll(t, shift_y, axis=1)\n",
    "    #     if shift_y > 0:\n",
    "    #         t[:-shift_y] = t[shift_y:]\n",
    "    #         t[-shift_y:] = 0\n",
    "    #     elif shift_y < 0:\n",
    "    #         t[-shift_y:] = t[:shift_y]\n",
    "    #         t[:-shift_y] = 0\n",
    "\n",
    "    if shift_x > 0:\n",
    "        sinogram_fixed[i, :-shift_x] = t\n",
    "    else:\n",
    "        sinogram_fixed[i, -shift_x:] = t"
   ]
  },
  {
   "cell_type": "code",
   "execution_count": null,
   "metadata": {},
   "outputs": [],
   "source": [
    "pixel_size = 9e-3\n",
    "\n",
    "\n",
    "def astra_tomo2d_parallel(sinogram, angles):\n",
    "    #     astra.astra.set_gpu_index([0,1])\n",
    "    angles = angles.astype('float64')\n",
    "    detector_size = sinogram.shape[1]\n",
    "\n",
    "    rec_size = detector_size\n",
    "    vol_geom = astra.create_vol_geom(rec_size, rec_size)\n",
    "    proj_geom = astra.create_proj_geom('parallel', 1.0, detector_size, angles)\n",
    "\n",
    "    sinogram_id = astra.data2d.create('-sino', proj_geom, data=sinogram)\n",
    "    # Create a data object for the reconstruction\n",
    "    rec_id = astra.data2d.create('-vol', vol_geom)\n",
    "    #     proj_id = astra.create_projector('strip', proj_geom, vol_geom) # for CPU reconstruction only\n",
    "    # Set up the parameters for a reconstruction algorithm using the GPU\n",
    "    cfg = astra.astra_dict('FBP_CUDA')\n",
    "    cfg['ReconstructionDataId'] = rec_id\n",
    "    cfg['ProjectionDataId'] = sinogram_id\n",
    "    #     cfg['ProjectorId'] = proj_id # for CPU reconstruction only\n",
    "    cfg['option'] = {}\n",
    "\n",
    "    alg_id = astra.algorithm.create(cfg)\n",
    "    astra.algorithm.run(alg_id, 1)\n",
    "\n",
    "    cfg = astra.astra_dict('CGLS_CUDA')\n",
    "    cfg['ReconstructionDataId'] = rec_id\n",
    "    cfg['ProjectionDataId'] = sinogram_id\n",
    "    #     cfg['ProjectorId'] = proj_id # for CPU reconstruction only\n",
    "    cfg['option'] = {}\n",
    "    #     cfg['option']['MinConstraint'] = -0.01\n",
    "\n",
    "    alg_id = astra.algorithm.create(cfg)\n",
    "\n",
    "    # Run 150 iterations of the algorithm\n",
    "    astra.algorithm.run(alg_id, 5)  # 30\n",
    "\n",
    "    # Get the result\n",
    "    rec = astra.data2d.get(rec_id) / pixel_size  # fixit\n",
    "\n",
    "    # Clean up. Note that GPU memory is tied up in the algorithm object,\n",
    "    # and main RAM in the data objects.\n",
    "    astra.algorithm.delete(alg_id)\n",
    "    astra.data2d.delete(rec_id)\n",
    "    astra.data2d.delete(sinogram_id)\n",
    "    astra.clear()\n",
    "    return rec\n",
    "\n",
    "\n",
    "def astra_tomo3d_parallel(sinogram, angles, rec_vol, slice_start, slice_stop):\n",
    "    #     astra.astra.set_gpu_index([0,1])\n",
    "    angles = angles.astype('float64')\n",
    "    detector_size = sinogram.shape[1]\n",
    "    #         slices_number = sinogram.shape[0]\n",
    "    slices_number = slice_stop - slice_start\n",
    "\n",
    "    rec_size = detector_size\n",
    "    vol_geom = astra.create_vol_geom(rec_size, rec_size, slices_number)\n",
    "    proj_geom = astra.create_proj_geom('parallel3d', 1.0, 1.0, slices_number, detector_size, angles)\n",
    "\n",
    "    sinogram_id = astra.data3d.create('-sino', proj_geom, np.rollaxis(sinogram, -1)[slice_start:slice_stop])\n",
    "    # Create a data object for the reconstruction\n",
    "    #     rec_id = astra.data3d.link('-vol', vol_geom, rec_vol[slice_start:slice_stop])\n",
    "    rec_id = astra.data3d.create('-vol', vol_geom)\n",
    "    # Set up the parameters for a reconstruction algorithm using the GPU\n",
    "    cfg = astra.astra_dict('CGLS3D_CUDA')\n",
    "    cfg['ReconstructionDataId'] = rec_id\n",
    "    cfg['ProjectionDataId'] = sinogram_id\n",
    "    #     cfg['ProjectorId'] = proj_id # for CPU reconstruction only\n",
    "    cfg['option'] = {}\n",
    "    #     cfg['option']['GPUindex'] = 1\n",
    "    cfg['option']['MinConstraint'] = -0.01\n",
    "\n",
    "    # Available algorithms:\n",
    "    # SIRT_CUDA, SART_CUDA, EM_CUDA, FBP_CUDA (see the FBP sample)\n",
    "\n",
    "    # Create the algorithm object from the configuration structure\n",
    "    alg_id = astra.algorithm.create(cfg)\n",
    "    #     astra.data3d.info()\n",
    "    # Run 150 iterations of the algorithm\n",
    "    astra.algorithm.run(alg_id, 1)\n",
    "\n",
    "    # Get the result\n",
    "    rec = astra.data3d.get(rec_id) / pixel_size  # fixit\n",
    "\n",
    "    # Clean up. Note that GPU memory is tied up in the algorithm object,\n",
    "    # and main RAM in the data objects.\n",
    "    astra.algorithm.delete(alg_id)\n",
    "    astra.data3d.delete(rec_id)\n",
    "    astra.data3d.delete(sinogram_id)\n",
    "    astra.clear()\n",
    "    return rec"
   ]
  },
  {
   "cell_type": "code",
   "execution_count": null,
   "metadata": {},
   "outputs": [],
   "source": [
    "s1_angles = uniq_angles\n",
    "s1 = np.require(sinogram_fixed[:, :, int(sinogram_fixed.shape[-1] // 3)],\n",
    "                dtype=np.float32, requirements=['C'])"
   ]
  },
  {
   "cell_type": "code",
   "execution_count": null,
   "metadata": {},
   "outputs": [],
   "source": [
    "# preview\n",
    "def test_rec(s1, uniq_angle):\n",
    "    plt.figure(figsize=(7, 7))\n",
    "    plt.imshow(s1[np.argsort(uniq_angle)], interpolation='bilinear', cmap=plt.cm.gray_r)\n",
    "    plt.colorbar()\n",
    "    plt.show()\n",
    "\n",
    "    bh_corr = 1.0\n",
    "    t_angles = (uniq_angles - uniq_angles.min()) <= 180  # remove angles >180\n",
    "    rec_slice = astra_tomo2d_parallel(s1[t_angles], uniq_angles[t_angles] * np.pi / 180)\n",
    "\n",
    "    plt.figure(figsize=(10, 8))\n",
    "    plt.imshow(safe_median(rec_slice),\n",
    "               vmin=0, vmax=np.percentile(rec_slice, 95) * 1.2, cmap=plt.cm.viridis)\n",
    "    plt.axis('equal')\n",
    "    plt.colorbar()\n",
    "    plt.show()"
   ]
  },
  {
   "cell_type": "code",
   "execution_count": null,
   "metadata": {},
   "outputs": [],
   "source": [
    "test_rec(s1, s1_angles)"
   ]
  },
  {
   "cell_type": "code",
   "execution_count": null,
   "metadata": {},
   "outputs": [],
   "source": [
    "plt.figure(figsize=(7, 7))\n",
    "\n",
    "plt.imshow(s1[np.argsort(uniq_angles)], interpolation='bilinear', cmap=plt.cm.gray_r)\n",
    "plt.axis('tight')\n",
    "cbar = plt.colorbar()\n",
    "cbar.set_label('Пропускание, усл.ед.', rotation=90)\n",
    "plt.title('Синограмма без коррекции')\n",
    "plt.xlabel('Номер канала детектора')\n",
    "plt.ylabel('Номер угла поворота')"
   ]
  },
  {
   "cell_type": "code",
   "execution_count": null,
   "metadata": {},
   "outputs": [],
   "source": [
    "# TODO: check mu physical value\n",
    "sinogram_fixed_median = np.median(sinogram_fixed.sum(axis=-1).sum(axis=-1))\n",
    "corr_factor = sinogram_fixed.sum(axis=-1).sum(axis=-1) / sinogram_fixed_median"
   ]
  },
  {
   "cell_type": "code",
   "execution_count": null,
   "metadata": {},
   "outputs": [],
   "source": [
    "# TODO: fix bad data\n",
    "for i in range(len(sinogram_fixed)):\n",
    "    sinogram_fixed[i] = sinogram_fixed[i] / corr_factor[i]"
   ]
  },
  {
   "cell_type": "code",
   "execution_count": null,
   "metadata": {},
   "outputs": [],
   "source": [
    "s2 = np.require(sinogram_fixed[:, :, int(sinogram_fixed.shape[-1] // 2)],\n",
    "                dtype=np.float32, requirements=['C'])"
   ]
  },
  {
   "cell_type": "code",
   "execution_count": null,
   "metadata": {},
   "outputs": [],
   "source": [
    "s2 = (s1.T / s1.sum(axis=-1) * s1.sum(axis=-1).mean()).T\n",
    "test_rec(s1, uniq_angles)\n",
    "test_rec(s2, uniq_angles)"
   ]
  },
  {
   "cell_type": "code",
   "execution_count": null,
   "metadata": {},
   "outputs": [],
   "source": [
    "del data_0_orig, data_180_orig, data_images_good, data_images, data_images_crop\n",
    "del sinogram, sinogram_fixed, uniq_angles, uniq_angles_orig, uniq_data_images"
   ]
  },
  {
   "cell_type": "code",
   "execution_count": null,
   "metadata": {},
   "outputs": [],
   "source": [
    "files_to_remove = glob(os.path.join(tmp_dir, '*.tmp'))\n",
    "files_to_remove = [f for f in files_to_remove if f.split('/')[-1] not in [\n",
    "    'uniq_angles.tmp', 'sinogram_fixed.tmp']]\n",
    "\n",
    "for fr in files_to_remove:\n",
    "    try:\n",
    "        os.remove(os.path.join(tmp_dir, fr))\n",
    "    except:\n",
    "        pass\n",
    "    try:\n",
    "        os.remove(os.path.join(tmp_dir, fr + '.size'))\n",
    "    except:\n",
    "        pass"
   ]
  },
  {
   "cell_type": "code",
   "execution_count": null,
   "metadata": {},
   "outputs": [],
   "source": [
    "uniq_angles, _ = tomotools.load_create_mm(os.path.join(tmp_dir, 'uniq_angles.tmp'),\n",
    "                                          shape=None,\n",
    "                                          dtype='float32')\n",
    "s1, _ = tomotools.load_create_mm(os.path.join(tmp_dir, 'sinogram_fixed.tmp'),\n",
    "                                 shape=None,\n",
    "                                 dtype='float32')\n",
    "\n",
    "rec_vol, _ = tomotools.load_create_mm(os.path.join(tmp_dir, 'rec.tmp'),\n",
    "                                      dtype=np.float32,\n",
    "                                      shape=(s1.shape[-1], s1.shape[1], s1.shape[1]))"
   ]
  },
  {
   "cell_type": "code",
   "execution_count": null,
   "metadata": {},
   "outputs": [],
   "source": [
    "# %%timeit\n",
    "# preview\n",
    "bh_corr = 1.0\n",
    "sss = s1[..., int(s1.shape[-1] // 2)]\n",
    "t_angles = (uniq_angles - uniq_angles.min()) <= 180  # remove angles >180\n",
    "s4 = sss.copy()\n",
    "# s4[s4<0] = 0\n",
    "\n",
    "rec_slice = astra_tomo2d_parallel(s4[t_angles], uniq_angles[t_angles] * np.pi / 180)\n",
    "\n",
    "plt.figure(figsize=(10, 8))\n",
    "plt.imshow(safe_median(rec_slice),\n",
    "           vmin=0, vmax=np.percentile(rec_slice, 95) * 1.2, cmap=plt.cm.viridis)\n",
    "plt.axis('equal')\n",
    "plt.colorbar()\n",
    "plt.show()\n",
    "\n",
    "# plt.figure(figsize=(7,5))\n",
    "# plt.plot(rec_slice[rec_slice.shape[0]//2])\n",
    "# plt.grid()\n",
    "# plt.show()\n",
    "\n",
    "# plt.figure(figsize=(7,5))\n",
    "# plt.plot(uniq_angles[t_angles]*np.pi/180, \n",
    "#          np.power(s4[t_angles],bh_corr).sum(axis=1)/np.sum(np.power(s4[t_angles],bh_corr))*np.sum(s4[t_angles]),\n",
    "#         '*')\n",
    "# plt.grid()\n",
    "# plt.show()\n",
    "\n",
    "\n",
    "# plt.figure(figsize=(7,5))\n",
    "# plt.hist(rec_slice.ravel(), bins=100)\n",
    "# plt.grid()\n",
    "# plt.show()\n",
    "\n",
    "\n",
    "# plt.figure(figsize=(8,8))\n",
    "# plt.imshow(rec_slice/np.sum(np.power(s4[t_angles],bh_corr))*np.sum(s4[t_angles]),\n",
    "#            vmin=0, vmax= np.percentile(rec_slice,95)*1.2, cmap=plt.cm.viridis)\n",
    "# plt.axis('tight')\n",
    "# plt.colorbar()\n",
    "# plt.show()"
   ]
  },
  {
   "cell_type": "code",
   "execution_count": null,
   "metadata": {},
   "outputs": [],
   "source": [
    "# multi 2d case\n",
    "t = time.time()\n",
    "print(s1.shape)\n",
    "angles = np.array(uniq_angles) * np.pi / 180\n",
    "for i in tqdm(range(0, s1.shape[-1])):\n",
    "    sino = s1[:, :, i].copy()\n",
    "    sino[sino < 0] = 0\n",
    "    sino = np.power(sino, bh_corr)  # BH!\n",
    "    t_angles = (uniq_angles - uniq_angles.min()) <= 180  # remove angles >180\n",
    "    rec_vol[i] = astra_tomo2d_parallel(sino[t_angles], angles[t_angles])\n",
    "print(time.time() - t)"
   ]
  },
  {
   "cell_type": "code",
   "execution_count": null,
   "metadata": {},
   "outputs": [],
   "source": [
    "rec_vol_filtered = rec_vol"
   ]
  },
  {
   "cell_type": "code",
   "execution_count": null,
   "metadata": {},
   "outputs": [],
   "source": [
    "for i in range(10):\n",
    "    plt.figure(figsize=(8, 8))\n",
    "    plt.imshow(rec_vol_filtered[i * rec_vol_filtered.shape[0] // 10], cmap=plt.cm.viridis, vmin=0)\n",
    "    plt.axis('equal')\n",
    "    plt.title(i * i * rec_vol_filtered.shape[0] // 10)\n",
    "    plt.colorbar()\n",
    "    plt.show()"
   ]
  },
  {
   "cell_type": "code",
   "execution_count": null,
   "metadata": {},
   "outputs": [],
   "source": [
    "for i in range(10):\n",
    "    plt.figure(figsize=(8, 8))\n",
    "    plt.imshow(rec_vol_filtered[:, i * rec_vol_filtered.shape[1] // 10, :], cmap=plt.cm.viridis, vmin=0)\n",
    "    plt.axis('equal')\n",
    "    plt.title(i * i * rec_vol_filtered.shape[0] // 10)\n",
    "    plt.colorbar()\n",
    "    plt.show()"
   ]
  },
  {
   "cell_type": "code",
   "execution_count": null,
   "metadata": {},
   "outputs": [],
   "source": [
    "for i in range(10):\n",
    "    plt.figure(figsize=(8, 8))\n",
    "    plt.imshow(rec_vol_filtered[:, :, i * rec_vol_filtered.shape[2] // 10], cmap=plt.cm.viridis, vmin=0)\n",
    "    plt.axis('equal')\n",
    "    plt.title(i * i * rec_vol_filtered.shape[0] // 10)\n",
    "    plt.colorbar()\n",
    "    plt.show()"
   ]
  },
  {
   "cell_type": "code",
   "execution_count": null,
   "metadata": {},
   "outputs": [],
   "source": [
    "noisy = rec_vol_filtered[int(rec_vol_filtered.shape[0] * 0.5)].astype('float64')\n",
    "noisy = resize(noisy, (noisy.shape[0] // 1, noisy.shape[1] // 1))\n",
    "# noisy = rec_vol_filtered[int(rec_vol_filtered.shape[0]*0.75)][::1,::1]\n",
    "sigma_est = np.mean(estimate_sigma(noisy, multichannel=False))\n",
    "print(\"estimated noise standard deviation = {}\".format(sigma_est))\n",
    "\n",
    "patch_kw = dict(patch_size=7,  # 5x5 patches\n",
    "                patch_distance=15,  # 13x13 search area\n",
    "                multichannel=False)\n",
    "\n",
    "# 1 algorithm\n",
    "denoise = denoise_nl_means(noisy, h=1.5 * sigma_est, fast_mode=True,\n",
    "                           **patch_kw)\n",
    "\n",
    "# 2 algorithm\n",
    "denoise_fast = denoise_nl_means(noisy, h=0.8 * sigma_est, fast_mode=True,\n",
    "                                **patch_kw)\n",
    "\n",
    "plt.figure(figsize=(6, 12))\n",
    "plt.subplot(311)\n",
    "plt.imshow(noisy, interpolation='bilinear')\n",
    "plt.axis('off')\n",
    "plt.colorbar()\n",
    "plt.title('noisy')\n",
    "\n",
    "plt.subplot(312)\n",
    "plt.imshow(denoise, interpolation='bilinear')\n",
    "plt.axis('off')\n",
    "plt.colorbar()\n",
    "plt.title('non-local means\\n(1)')\n",
    "\n",
    "plt.subplot(313)\n",
    "plt.imshow(denoise_fast, interpolation='bilinear')\n",
    "plt.axis('off')\n",
    "plt.colorbar()\n",
    "plt.title('non-local means\\n(2)')\n",
    "\n",
    "plt.show()\n",
    "\n",
    "plt.figure(figsize=(8, 8))\n",
    "plt.subplot(321)\n",
    "plt.imshow(noisy, interpolation='bilinear')\n",
    "plt.axis('off')\n",
    "plt.colorbar()\n",
    "plt.title('noisy')\n",
    "\n",
    "plt.subplot(322)\n",
    "plt.hist(noisy.ravel(), bins=100);\n",
    "plt.grid()\n",
    "\n",
    "plt.subplot(323)\n",
    "plt.imshow(denoise, interpolation='bilinear')\n",
    "plt.axis('off')\n",
    "plt.colorbar()\n",
    "plt.title('non-local means\\n(1)')\n",
    "\n",
    "plt.subplot(324)\n",
    "plt.hist(denoise.ravel(), bins=100);\n",
    "plt.grid()\n",
    "\n",
    "plt.subplot(325)\n",
    "plt.imshow(denoise_fast, interpolation='bilinear')\n",
    "plt.axis('off')\n",
    "plt.colorbar()\n",
    "plt.title('non-local means\\n(2)')\n",
    "\n",
    "plt.subplot(326)\n",
    "plt.hist(denoise_fast.ravel(), bins=100);\n",
    "plt.grid()\n",
    "\n",
    "plt.show()"
   ]
  },
  {
   "cell_type": "code",
   "execution_count": null,
   "metadata": {},
   "outputs": [],
   "source": [
    "def reshape_volume(volume, reshape):\n",
    "    res = np.zeros([s // reshape for s in volume.shape], dtype='float32')\n",
    "    xs, ys, zs = [s * reshape for s in res.shape]\n",
    "    for x, y, z in np.ndindex(reshape, reshape, reshape):\n",
    "        res += volume[x:xs:reshape, y:ys:reshape, z:zs:reshape]\n",
    "    return res / reshape ** 3"
   ]
  },
  {
   "cell_type": "code",
   "execution_count": null,
   "metadata": {},
   "outputs": [],
   "source": [
    "def save_amira(in_array, out_path, reshape=3):\n",
    "    data_path = out_path\n",
    "    with open(os.path.join(data_path, 'amira.raw'), 'wb') as amira_file:\n",
    "        reshaped_vol = reshape_volume(in_array, reshape)\n",
    "        reshaped_vol.tofile(amira_file)\n",
    "        file_shape = reshaped_vol.shape\n",
    "        with open(os.path.join(data_path, 'tomo.hx'), 'w') as af:\n",
    "            af.write('# Amira Script\\n')\n",
    "            af.write('remove -all\\n')\n",
    "            af.write(r'[ load -raw ${SCRIPTDIR}/amira.raw little xfastest float 1 ' +\n",
    "                     str(file_shape[1]) + ' ' + str(file_shape[2]) + ' ' + str(file_shape[0]) +\n",
    "                     ' 0 ' + str(file_shape[1] - 1) + ' 0 ' + str(file_shape[2] - 1) + ' 0 ' + str(file_shape[0] - 1) +\n",
    "                     ' ] setLabel tomo.raw\\n')"
   ]
  },
  {
   "cell_type": "code",
   "execution_count": null,
   "metadata": {},
   "outputs": [],
   "source": [
    "save_amira(rec_vol_filtered, tmp_dir, 3)"
   ]
  },
  {
   "cell_type": "code",
   "execution_count": null,
   "metadata": {},
   "outputs": [],
   "source": [
    "with h5py.File(os.path.join(tmp_dir, 'tomo_rec.h5'), 'w') as h5f:\n",
    "    h5f.create_dataset('Reconstruction', data=rec_vol_filtered, chunks=True,\n",
    "                       compression='lzf')"
   ]
  },
  {
   "cell_type": "code",
   "execution_count": null,
   "metadata": {},
   "outputs": [],
   "source": [
    "# import ipyvolume as ipv"
   ]
  },
  {
   "cell_type": "code",
   "execution_count": null,
   "metadata": {},
   "outputs": [],
   "source": [
    "# ipv.figure()\n",
    "# ipv.volshow(reshape_volume(rec_vol_filtered,10),\n",
    "#             max_shape=1024,\n",
    "#             extent=[[0, rec_vol_filtered.shape[2]*9e-3],\n",
    "#                    [0, rec_vol_filtered.shape[1]*9e-3],\n",
    "#                    [0, rec_vol_filtered.shape[0]*9e-3]]\n",
    "#            )\n",
    "# ipv.xlim(0, rec_vol_filtered.shape[2]*9e-3)\n",
    "# ipv.xlabel('mm')\n",
    "# ipv.ylim(0, rec_vol_filtered.shape[1]*9e-3)\n",
    "# ipv.ylabel('mm')\n",
    "# ipv.zlim(0, rec_vol_filtered.shape[0]*9e-3)\n",
    "# ipv.zlabel('mm')\n",
    "# ipv.squarelim()\n",
    "# # ipv.show()\n",
    "# ipv.save(os.path.join(tmp_dir,'tomo.html'))"
   ]
  },
  {
   "cell_type": "code",
   "execution_count": null,
   "metadata": {},
   "outputs": [],
   "source": [
    "files_to_remove = glob(os.path.join(tmp_dir, '*.tmp'))\n",
    "files_to_remove"
   ]
  },
  {
   "cell_type": "code",
   "execution_count": null,
   "metadata": {},
   "outputs": [],
   "source": [
    "for fr in files_to_remove:\n",
    "    try:\n",
    "        os.remove(os.path.join(tmp_dir, fr))\n",
    "    except:\n",
    "        pass\n",
    "    try:\n",
    "        os.remove(os.path.join(tmp_dir, fr + '.size'))\n",
    "    except:\n",
    "        pass"
   ]
  },
  {
   "cell_type": "code",
   "execution_count": null,
   "metadata": {},
   "outputs": [],
   "source": [
    "tomotools.mkdir_p(os.path.join(storage_dir, experiment_id))"
   ]
  },
  {
   "cell_type": "code",
   "execution_count": null,
   "metadata": {},
   "outputs": [],
   "source": [
    "# !cp 'tomo.ini'  {os.path.join(storage_dir, experiment_id)}"
   ]
  },
  {
   "cell_type": "code",
   "execution_count": null,
   "metadata": {},
   "outputs": [],
   "source": [
    "!cp -r {tmp_dir} {storage_dir}"
   ]
  },
  {
   "cell_type": "code",
   "execution_count": null,
   "metadata": {},
   "outputs": [],
   "source": [
    "!rm -rf {tmp_dir}"
   ]
  },
  {
   "cell_type": "code",
   "execution_count": null,
   "metadata": {},
   "outputs": [],
   "source": [
    "!mv {os.path.join(data_dir, experiment_id+'.h5')} {storage_dir}"
   ]
  },
  {
   "cell_type": "code",
   "execution_count": null,
   "metadata": {},
   "outputs": [],
   "source": [
    "!ls -lha {storage_dir+'/'+experiment_id}"
   ]
  },
  {
   "cell_type": "code",
   "execution_count": null,
   "metadata": {},
   "outputs": [],
   "source": []
  }
 ],
 "metadata": {
  "jupytext": {
   "encoding": "# -*- coding: utf-8 -*-",
   "formats": "ipynb,py:percent"
  },
  "kernelspec": {
   "display_name": "Python 3",
   "language": "python",
   "name": "python3"
  },
  "language_info": {
   "codemirror_mode": {
    "name": "ipython",
    "version": 3
   },
   "file_extension": ".py",
   "mimetype": "text/x-python",
   "name": "python",
   "nbconvert_exporter": "python",
   "pygments_lexer": "ipython3",
   "version": "3.7.6"
  }
 },
 "nbformat": 4,
 "nbformat_minor": 4
}
